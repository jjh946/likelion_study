{
  "nbformat": 4,
  "nbformat_minor": 0,
  "metadata": {
    "colab": {
      "name": "pythonBasic.ipynb",
      "provenance": [],
      "authorship_tag": "ABX9TyP52JcnAvmOel33VoSGtWVb",
      "include_colab_link": true
    },
    "kernelspec": {
      "name": "python3",
      "display_name": "Python 3"
    },
    "language_info": {
      "name": "python"
    }
  },
  "cells": [
    {
      "cell_type": "markdown",
      "metadata": {
        "id": "view-in-github",
        "colab_type": "text"
      },
      "source": [
        "<a href=\"https://colab.research.google.com/github/jjh946/likelion_study/blob/main/pythonBasic.ipynb\" target=\"_parent\"><img src=\"https://colab.research.google.com/assets/colab-badge.svg\" alt=\"Open In Colab\"/></a>"
      ]
    },
    {
      "cell_type": "code",
      "execution_count": null,
      "metadata": {
        "colab": {
          "base_uri": "https://localhost:8080/",
          "height": 35
        },
        "id": "G60cqfVKzm3l",
        "outputId": "255c4195-9529-4dc0-a40f-37409241e7d5"
      },
      "outputs": [
        {
          "output_type": "execute_result",
          "data": {
            "text/plain": [
              "'/content'"
            ],
            "application/vnd.google.colaboratory.intrinsic+json": {
              "type": "string"
            }
          },
          "metadata": {},
          "execution_count": 1
        }
      ],
      "source": [
        "import os\n",
        "os.getcwd()"
      ]
    },
    {
      "cell_type": "code",
      "source": [
        "print(한식)"
      ],
      "metadata": {
        "colab": {
          "base_uri": "https://localhost:8080/",
          "height": 172
        },
        "id": "oZen_yjAz_7o",
        "outputId": "d3a3e04c-4411-4dfb-e333-50006499a271"
      },
      "execution_count": null,
      "outputs": [
        {
          "output_type": "error",
          "ename": "NameError",
          "evalue": "ignored",
          "traceback": [
            "\u001b[0;31m---------------------------------------------------------------------------\u001b[0m",
            "\u001b[0;31mNameError\u001b[0m                                 Traceback (most recent call last)",
            "\u001b[0;32m<ipython-input-2-3e2322201cd8>\u001b[0m in \u001b[0;36m<module>\u001b[0;34m()\u001b[0m\n\u001b[0;32m----> 1\u001b[0;31m \u001b[0mprint\u001b[0m\u001b[0;34m(\u001b[0m\u001b[0m한식\u001b[0m\u001b[0;34m)\u001b[0m\u001b[0;34m\u001b[0m\u001b[0;34m\u001b[0m\u001b[0m\n\u001b[0m",
            "\u001b[0;31mNameError\u001b[0m: name '한식' is not defined"
          ]
        }
      ]
    },
    {
      "cell_type": "code",
      "source": [
        "### 변수에 요리 담기.\n",
        "한식 = random.choice([\"김치찌개\",\"비빔밥\",\"불고기\"])\n",
        "중식 = random.choice([\"새우탕면\",\"꿔바로우\",\"깐쇼새우\"])\n",
        "양식 = random.choice([\"파스타\",\"피자\",\"햄버거\"])\n",
        "\n",
        "print(한식)\n",
        "### 랜덤으로 하나가 담긴다.\n",
        "\n",
        "한식 = \"집밥\"\n",
        "\n",
        "print(한식)\n",
        "### 집밥\n",
        "\n",
        "\n",
        "a = '멋쟁이사자처럼' \n",
        "## 이런 식으로 변수에 담아주고\n",
        "print(a) ## 이렇게 사용하시면 됩니다."
      ],
      "metadata": {
        "colab": {
          "base_uri": "https://localhost:8080/",
          "height": 245
        },
        "id": "Aze_a4xf0CDU",
        "outputId": "5adf9fc1-7c4f-4213-a607-df5ff0199fe0"
      },
      "execution_count": null,
      "outputs": [
        {
          "output_type": "error",
          "ename": "NameError",
          "evalue": "ignored",
          "traceback": [
            "\u001b[0;31m---------------------------------------------------------------------------\u001b[0m",
            "\u001b[0;31mNameError\u001b[0m                                 Traceback (most recent call last)",
            "\u001b[0;32m<ipython-input-3-159c98dad5b7>\u001b[0m in \u001b[0;36m<module>\u001b[0;34m()\u001b[0m\n\u001b[1;32m      1\u001b[0m \u001b[0;31m### 변수에 요리 담기.\u001b[0m\u001b[0;34m\u001b[0m\u001b[0;34m\u001b[0m\u001b[0;34m\u001b[0m\u001b[0m\n\u001b[0;32m----> 2\u001b[0;31m \u001b[0m한식\u001b[0m \u001b[0;34m=\u001b[0m \u001b[0mrandom\u001b[0m\u001b[0;34m.\u001b[0m\u001b[0mchoice\u001b[0m\u001b[0;34m(\u001b[0m\u001b[0;34m[\u001b[0m\u001b[0;34m\"김치찌개\"\u001b[0m\u001b[0;34m,\u001b[0m\u001b[0;34m\"비빔밥\"\u001b[0m\u001b[0;34m,\u001b[0m\u001b[0;34m\"불고기\"\u001b[0m\u001b[0;34m]\u001b[0m\u001b[0;34m)\u001b[0m\u001b[0;34m\u001b[0m\u001b[0;34m\u001b[0m\u001b[0m\n\u001b[0m\u001b[1;32m      3\u001b[0m \u001b[0m중식\u001b[0m \u001b[0;34m=\u001b[0m \u001b[0mrandom\u001b[0m\u001b[0;34m.\u001b[0m\u001b[0mchoice\u001b[0m\u001b[0;34m(\u001b[0m\u001b[0;34m[\u001b[0m\u001b[0;34m\"새우탕면\"\u001b[0m\u001b[0;34m,\u001b[0m\u001b[0;34m\"꿔바로우\"\u001b[0m\u001b[0;34m,\u001b[0m\u001b[0;34m\"깐쇼새우\"\u001b[0m\u001b[0;34m]\u001b[0m\u001b[0;34m)\u001b[0m\u001b[0;34m\u001b[0m\u001b[0;34m\u001b[0m\u001b[0m\n\u001b[1;32m      4\u001b[0m \u001b[0m양식\u001b[0m \u001b[0;34m=\u001b[0m \u001b[0mrandom\u001b[0m\u001b[0;34m.\u001b[0m\u001b[0mchoice\u001b[0m\u001b[0;34m(\u001b[0m\u001b[0;34m[\u001b[0m\u001b[0;34m\"파스타\"\u001b[0m\u001b[0;34m,\u001b[0m\u001b[0;34m\"피자\"\u001b[0m\u001b[0;34m,\u001b[0m\u001b[0;34m\"햄버거\"\u001b[0m\u001b[0;34m]\u001b[0m\u001b[0;34m)\u001b[0m\u001b[0;34m\u001b[0m\u001b[0;34m\u001b[0m\u001b[0m\n\u001b[1;32m      5\u001b[0m \u001b[0;34m\u001b[0m\u001b[0m\n",
            "\u001b[0;31mNameError\u001b[0m: name 'random' is not defined"
          ]
        }
      ]
    },
    {
      "cell_type": "code",
      "source": [
        "say = '\"Python is very easy.\" he says.'"
      ],
      "metadata": {
        "id": "dQ7PKtMf0JHR"
      },
      "execution_count": null,
      "outputs": []
    },
    {
      "cell_type": "code",
      "source": [
        "print(say)"
      ],
      "metadata": {
        "colab": {
          "base_uri": "https://localhost:8080/"
        },
        "id": "iHcUYUCe1Nkq",
        "outputId": "7dd6fa7b-3643-46ad-911a-5fb5d73c9864"
      },
      "execution_count": null,
      "outputs": [
        {
          "output_type": "stream",
          "name": "stdout",
          "text": [
            "\"Python is very easy.\" he says.\n"
          ]
        }
      ]
    },
    {
      "cell_type": "code",
      "source": [
        "multiline = \"Life is too short\\nYou need python\"\n"
      ],
      "metadata": {
        "id": "koFhRB2f1PxS"
      },
      "execution_count": null,
      "outputs": []
    },
    {
      "cell_type": "code",
      "source": [
        "print(multiline)"
      ],
      "metadata": {
        "colab": {
          "base_uri": "https://localhost:8080/"
        },
        "id": "YrYYEoF-1nGI",
        "outputId": "55dea79a-5d98-4306-caf0-5d87134eb1ba"
      },
      "execution_count": null,
      "outputs": [
        {
          "output_type": "stream",
          "name": "stdout",
          "text": [
            "Life is too short\n",
            "You need python\n"
          ]
        }
      ]
    },
    {
      "cell_type": "code",
      "source": [
        "multiline='''\n",
        "... Life is too short\n",
        "... You need python\n",
        "... '''"
      ],
      "metadata": {
        "id": "wT42MAtj1qmf"
      },
      "execution_count": null,
      "outputs": []
    },
    {
      "cell_type": "code",
      "source": [
        "print(multiline)"
      ],
      "metadata": {
        "colab": {
          "base_uri": "https://localhost:8080/"
        },
        "id": "mxwAMYpK1tvj",
        "outputId": "dc643c5f-22e0-4855-f032-3d233947b54e"
      },
      "execution_count": null,
      "outputs": [
        {
          "output_type": "stream",
          "name": "stdout",
          "text": [
            "\n",
            "Life is too short\n",
            "You need python\n",
            "\n"
          ]
        }
      ]
    },
    {
      "cell_type": "code",
      "source": [
        "multiline=\"\"\"\n",
        "... Life is too short\n",
        "... You need python\n",
        "... \"\"\""
      ],
      "metadata": {
        "id": "7XEpt3TO1vw4"
      },
      "execution_count": null,
      "outputs": []
    },
    {
      "cell_type": "code",
      "source": [
        "print(multiline)"
      ],
      "metadata": {
        "colab": {
          "base_uri": "https://localhost:8080/"
        },
        "id": "xv_ZXX3V1-j7",
        "outputId": "d7bc1bf7-08b6-4fbd-9886-629c37090053"
      },
      "execution_count": null,
      "outputs": [
        {
          "output_type": "stream",
          "name": "stdout",
          "text": [
            "\n",
            "Life is too short\n",
            "You need python\n",
            "\n"
          ]
        }
      ]
    },
    {
      "cell_type": "code",
      "source": [
        "head = \"Python\"\n",
        "tail = \" is fun!\"\n",
        "print(head + tail)\n"
      ],
      "metadata": {
        "colab": {
          "base_uri": "https://localhost:8080/"
        },
        "id": "1KR5Ahmm2Aew",
        "outputId": "b4081893-1745-4266-f41f-2e659d25354d"
      },
      "execution_count": null,
      "outputs": [
        {
          "output_type": "stream",
          "name": "stdout",
          "text": [
            "Python is fun!\n"
          ]
        }
      ]
    },
    {
      "cell_type": "code",
      "source": [
        "## 문자열 곱하기\n",
        "a = \"python\"\n",
        "print(a * 2) ## 두번 반복해라\n",
        "#'pythonpython'"
      ],
      "metadata": {
        "colab": {
          "base_uri": "https://localhost:8080/"
        },
        "id": "dlpTOn6r2Hlt",
        "outputId": "83cfab2b-b7d1-4757-8e84-dc03247f30d9"
      },
      "execution_count": null,
      "outputs": [
        {
          "output_type": "stream",
          "name": "stdout",
          "text": [
            "pythonpython\n"
          ]
        }
      ]
    },
    {
      "cell_type": "code",
      "source": [
        "## 문자열 곱하기 응용\n",
        "\n",
        "print(\"=\" * 50)\n",
        "print(\"My Program\")\n",
        "print(\"=\" * 50)\n",
        "\n",
        "#==================================================\n",
        "#My Program\n",
        "#=================================================="
      ],
      "metadata": {
        "colab": {
          "base_uri": "https://localhost:8080/"
        },
        "id": "Kr1bfhc92OaF",
        "outputId": "289018c0-8134-4a97-cb59-59ac579dbbd0"
      },
      "execution_count": null,
      "outputs": [
        {
          "output_type": "stream",
          "name": "stdout",
          "text": [
            "==================================================\n",
            "My Program\n",
            "==================================================\n"
          ]
        }
      ]
    },
    {
      "cell_type": "code",
      "source": [
        "## 문자열 길이 구하기\n",
        "a = \"Life is too short\"\n",
        "len(a)\n",
        "# 17"
      ],
      "metadata": {
        "colab": {
          "base_uri": "https://localhost:8080/"
        },
        "id": "9W_8HTvo2SXy",
        "outputId": "0496e633-52b9-4eee-907c-6eb78faf4b1c"
      },
      "execution_count": null,
      "outputs": [
        {
          "output_type": "execute_result",
          "data": {
            "text/plain": [
              "17"
            ]
          },
          "metadata": {},
          "execution_count": 16
        }
      ]
    },
    {
      "cell_type": "code",
      "source": [
        "## 문자열 인덱싱과 슬라이싱\n",
        "\"\"\"\n",
        "인덱싱(Indexing)이란 무엇인가를 \"가리킨다\"는 의미이고, 슬라이싱(Slicing)은 무엇인가를 \"잘라낸다\"는 의미이다. 이런 의미를 생각하면서 다음 내용을 살펴보자\n",
        "\"\"\"\n",
        "## 문자열 인덱싱\n",
        "a = \"Life is too short, You need Python\"\n",
        "a[3]\n",
        "# 'e' -> 맨 앞이 0부터 시작, 즉 4번째 알파벳이 나온다."
      ],
      "metadata": {
        "colab": {
          "base_uri": "https://localhost:8080/",
          "height": 35
        },
        "id": "BV2Q_xpV2We6",
        "outputId": "f61c1884-cac2-44ca-ae52-e0f94608bdca"
      },
      "execution_count": null,
      "outputs": [
        {
          "output_type": "execute_result",
          "data": {
            "text/plain": [
              "'e'"
            ],
            "application/vnd.google.colaboratory.intrinsic+json": {
              "type": "string"
            }
          },
          "metadata": {},
          "execution_count": 17
        }
      ]
    },
    {
      "cell_type": "code",
      "source": [
        "\"\"\"\n",
        "다음과 같이 0부터 숫자를 센다\n",
        "a[0]:'L', a[1]:'i', a[2]:'f', a[3]:'e', a[4]:' ', ...\n",
        "\"\"\"\n",
        "## 마지막 문자열 세기: \n",
        "\"\"\"\n",
        "a[-1]은 뒤에서부터 세어 첫 번째가 되는 문자를 말한다. a의 값은 \"Life is too short, You need Python\" 문자열이므로 뒤에서부터 첫 번째 문자는 가장 마지막 문자 'n'이다.\n",
        "\"\"\"\n",
        "a[-1]\n",
        "# 'n'"
      ],
      "metadata": {
        "colab": {
          "base_uri": "https://localhost:8080/",
          "height": 35
        },
        "id": "TXdw9JWp2gCl",
        "outputId": "602e3ea5-1808-4b88-de60-263057896558"
      },
      "execution_count": null,
      "outputs": [
        {
          "output_type": "execute_result",
          "data": {
            "text/plain": [
              "'n'"
            ],
            "application/vnd.google.colaboratory.intrinsic+json": {
              "type": "string"
            }
          },
          "metadata": {},
          "execution_count": 18
        }
      ]
    },
    {
      "cell_type": "code",
      "source": [
        "## 문자열 슬라이싱\n",
        "a = \"Life is too short, You need Python\"\n",
        "a[0:4]\n",
        "# 'Life'\n",
        "b = a[0] + a[1] + a[2] + a[3]\n",
        "b\n",
        "# 'Life'\n"
      ],
      "metadata": {
        "colab": {
          "base_uri": "https://localhost:8080/",
          "height": 35
        },
        "id": "cSCrhicz2odR",
        "outputId": "06568bc3-21b4-48af-9207-0955bae3c14f"
      },
      "execution_count": null,
      "outputs": [
        {
          "output_type": "execute_result",
          "data": {
            "text/plain": [
              "'Life'"
            ],
            "application/vnd.google.colaboratory.intrinsic+json": {
              "type": "string"
            }
          },
          "metadata": {},
          "execution_count": 19
        }
      ]
    },
    {
      "cell_type": "code",
      "source": [
        "a[0:4]"
      ],
      "metadata": {
        "colab": {
          "base_uri": "https://localhost:8080/",
          "height": 35
        },
        "id": "U2zX9jIb2sZR",
        "outputId": "b24a00cb-7c23-4021-a27b-ca35c4b204fd"
      },
      "execution_count": null,
      "outputs": [
        {
          "output_type": "execute_result",
          "data": {
            "text/plain": [
              "'Life'"
            ],
            "application/vnd.google.colaboratory.intrinsic+json": {
              "type": "string"
            }
          },
          "metadata": {},
          "execution_count": 20
        }
      ]
    },
    {
      "cell_type": "code",
      "source": [
        "a[4:8]"
      ],
      "metadata": {
        "colab": {
          "base_uri": "https://localhost:8080/",
          "height": 35
        },
        "id": "PCpHuLhd2xXo",
        "outputId": "9ecbcbf0-4090-4702-e0ea-153300f02df6"
      },
      "execution_count": null,
      "outputs": [
        {
          "output_type": "execute_result",
          "data": {
            "text/plain": [
              "' is '"
            ],
            "application/vnd.google.colaboratory.intrinsic+json": {
              "type": "string"
            }
          },
          "metadata": {},
          "execution_count": 21
        }
      ]
    },
    {
      "cell_type": "code",
      "source": [
        "## a[시작 번호:끝 번호]에서 끝 번호 부분을 생략하면 시작 번호부터 그 문자열의 끝까지 뽑아낸다.\n",
        "a[19:]\n",
        "# 'You need Python'"
      ],
      "metadata": {
        "colab": {
          "base_uri": "https://localhost:8080/",
          "height": 35
        },
        "id": "09GHqoFN22k8",
        "outputId": "dd554b73-6efb-414f-c9fa-e7eddb8594f9"
      },
      "execution_count": null,
      "outputs": [
        {
          "output_type": "execute_result",
          "data": {
            "text/plain": [
              "'You need Python'"
            ],
            "application/vnd.google.colaboratory.intrinsic+json": {
              "type": "string"
            }
          },
          "metadata": {},
          "execution_count": 22
        }
      ]
    },
    {
      "cell_type": "code",
      "source": [
        "## a[시작 번호:끝 번호]에서 시작 번호를 생략하면 문자열의 처음부터 끝 번호까지 뽑아낸다.\n",
        "a[:17]\n",
        "# 'Life is too short'"
      ],
      "metadata": {
        "colab": {
          "base_uri": "https://localhost:8080/",
          "height": 35
        },
        "id": "jEojnVFu27Af",
        "outputId": "039561e9-df60-484d-8514-0665c4370245"
      },
      "execution_count": null,
      "outputs": [
        {
          "output_type": "execute_result",
          "data": {
            "text/plain": [
              "'Life is too short'"
            ],
            "application/vnd.google.colaboratory.intrinsic+json": {
              "type": "string"
            }
          },
          "metadata": {},
          "execution_count": 23
        }
      ]
    },
    {
      "cell_type": "code",
      "source": [
        "a = \"Pithon\"\n",
        "a[1]"
      ],
      "metadata": {
        "colab": {
          "base_uri": "https://localhost:8080/",
          "height": 35
        },
        "id": "ZbL5PInz2-UU",
        "outputId": "c94129a7-e20c-480c-e558-1bcf5b3ca2ed"
      },
      "execution_count": null,
      "outputs": [
        {
          "output_type": "execute_result",
          "data": {
            "text/plain": [
              "'i'"
            ],
            "application/vnd.google.colaboratory.intrinsic+json": {
              "type": "string"
            }
          },
          "metadata": {},
          "execution_count": 27
        }
      ]
    },
    {
      "cell_type": "code",
      "source": [
        "a[1] = 'y'"
      ],
      "metadata": {
        "colab": {
          "base_uri": "https://localhost:8080/",
          "height": 172
        },
        "id": "wBF0Yibm3KE7",
        "outputId": "fc880d7e-95e6-4781-9252-5ab7fd9e46d2"
      },
      "execution_count": null,
      "outputs": [
        {
          "output_type": "error",
          "ename": "TypeError",
          "evalue": "ignored",
          "traceback": [
            "\u001b[0;31m---------------------------------------------------------------------------\u001b[0m",
            "\u001b[0;31mTypeError\u001b[0m                                 Traceback (most recent call last)",
            "\u001b[0;32m<ipython-input-28-d5923cc78d10>\u001b[0m in \u001b[0;36m<module>\u001b[0;34m()\u001b[0m\n\u001b[0;32m----> 1\u001b[0;31m \u001b[0ma\u001b[0m\u001b[0;34m[\u001b[0m\u001b[0;36m1\u001b[0m\u001b[0;34m]\u001b[0m \u001b[0;34m=\u001b[0m \u001b[0;34m'y'\u001b[0m\u001b[0;34m\u001b[0m\u001b[0;34m\u001b[0m\u001b[0m\n\u001b[0m",
            "\u001b[0;31mTypeError\u001b[0m: 'str' object does not support item assignment"
          ]
        }
      ]
    },
    {
      "cell_type": "code",
      "source": [
        "a[:1]"
      ],
      "metadata": {
        "colab": {
          "base_uri": "https://localhost:8080/",
          "height": 35
        },
        "id": "A2Fs4fT23NzU",
        "outputId": "0ff062de-5617-4fe0-e471-dff732b8d10a"
      },
      "execution_count": null,
      "outputs": [
        {
          "output_type": "execute_result",
          "data": {
            "text/plain": [
              "'P'"
            ],
            "application/vnd.google.colaboratory.intrinsic+json": {
              "type": "string"
            }
          },
          "metadata": {},
          "execution_count": 29
        }
      ]
    },
    {
      "cell_type": "code",
      "source": [
        "a[2:]"
      ],
      "metadata": {
        "colab": {
          "base_uri": "https://localhost:8080/",
          "height": 35
        },
        "id": "49g7-2WE3gnc",
        "outputId": "b7f1eb24-336f-4704-ab9e-9a921d8a72e3"
      },
      "execution_count": null,
      "outputs": [
        {
          "output_type": "execute_result",
          "data": {
            "text/plain": [
              "'thon'"
            ],
            "application/vnd.google.colaboratory.intrinsic+json": {
              "type": "string"
            }
          },
          "metadata": {},
          "execution_count": 30
        }
      ]
    },
    {
      "cell_type": "code",
      "source": [
        "a[:1]+'y'+a[2:]"
      ],
      "metadata": {
        "colab": {
          "base_uri": "https://localhost:8080/",
          "height": 35
        },
        "id": "H6mlqNlr3jdC",
        "outputId": "103aed8b-cf57-452d-e073-73c3aa8fbaa2"
      },
      "execution_count": null,
      "outputs": [
        {
          "output_type": "execute_result",
          "data": {
            "text/plain": [
              "'Python'"
            ],
            "application/vnd.google.colaboratory.intrinsic+json": {
              "type": "string"
            }
          },
          "metadata": {},
          "execution_count": 31
        }
      ]
    },
    {
      "cell_type": "code",
      "source": [
        ""
      ],
      "metadata": {
        "id": "CBWE-3S83s3R"
      },
      "execution_count": null,
      "outputs": []
    },
    {
      "cell_type": "markdown",
      "source": [
        "**PYTHON  기초: 조건문** \n",
        "\n",
        "- 코드의 흐름을 제어한다고 해서 제어문\n",
        "- 분기문 = 컴퓨터에게 선택의 여지와 조건을 부여\n",
        "- if(조건): 조건이 참일 때 실행할 코드"
      ],
      "metadata": {
        "id": "aG5eQj5432M1"
      }
    },
    {
      "cell_type": "code",
      "source": [
        "score = int(input(\"점수를 입력해주세요: \")) #프롬프트\n",
        "if (score >= 85):\n",
        "    print(\"PASS\")\n",
        "else:\n",
        "    print(\"FAIL\")"
      ],
      "metadata": {
        "colab": {
          "base_uri": "https://localhost:8080/"
        },
        "id": "UocUYMqe4Gen",
        "outputId": "23cb3493-5f81-4a6d-c28a-bbe096e0b1f9"
      },
      "execution_count": null,
      "outputs": [
        {
          "output_type": "stream",
          "name": "stdout",
          "text": [
            "점수를 입력해주세요: 40\n",
            "FAIL\n"
          ]
        }
      ]
    },
    {
      "cell_type": "code",
      "source": [
        "## 등호 조건 예시\n",
        "## 예시: 동아리 뭐해?\n",
        "activity = input(\"너 동아리 뭐해?: \")\n",
        "\n",
        "if(activity == \"멋쟁이사자처럼\"):\n",
        "    print(\"뭘 좀 아는구만!\")\n",
        "else:\n",
        "    print(\"말 걸지마..\")\n",
        "\n",
        "## 너 동아리 뭐해?: 멋쟁이사자처럼\n",
        "## 뭘 좀 아는구만!"
      ],
      "metadata": {
        "colab": {
          "base_uri": "https://localhost:8080/"
        },
        "id": "92Zk-tUlYwS2",
        "outputId": "123da958-2cea-4856-8716-694c7f3e5f4f"
      },
      "execution_count": null,
      "outputs": [
        {
          "output_type": "stream",
          "name": "stdout",
          "text": [
            "너 동아리 뭐해?: 멋쟁이사자처럼\n",
            "뭘 좀 아는구만!\n"
          ]
        }
      ]
    },
    {
      "cell_type": "code",
      "source": [
        "# 예시: 5000원 이상: 택시/ 3000원 이상: 버스/ 1000원 따릉이/ 나머지: 걷기\n",
        "\n",
        "money = int(input(\"돈 얼마나 있니?\"))\n",
        "\n",
        "if(money >= 5000):\n",
        "    print(\"택시타자\")\n",
        "elif(money >= 3000):\n",
        "    print(\"버스타자\")\n",
        "elif(money >= 1000):\n",
        "    print(\"따릉이타자\")\n",
        "else:\n",
        "    print(\"걷자\")"
      ],
      "metadata": {
        "colab": {
          "base_uri": "https://localhost:8080/"
        },
        "id": "Q26ztkcAY9WA",
        "outputId": "0ff22240-0296-4d1f-8ed2-066ec1765ce5"
      },
      "execution_count": null,
      "outputs": [
        {
          "output_type": "stream",
          "name": "stdout",
          "text": [
            "돈 얼마나 있니?200\n",
            "걷자\n"
          ]
        }
      ]
    },
    {
      "cell_type": "code",
      "source": [
        "money = 2000\n",
        "card = True\n",
        "if money >= 3000 or card:\n",
        "\tprint(\"택시를 타고 가라\")\n",
        "else:\n",
        "\tprint(\"걸어가라\")\n",
        "\n",
        "## 택시를 타고 가라\n",
        "\"\"\"\n",
        "money는 2000이지만 card가 True이기 때문에 \n",
        "money >= 3000 or card 조건문이 참이 된다. 따라서 if문 다음 ‘택시를 타고 가라’ 문장이 출력된다.\n",
        "\"\"\""
      ],
      "metadata": {
        "colab": {
          "base_uri": "https://localhost:8080/",
          "height": 72
        },
        "id": "KA212Mf1ZMmU",
        "outputId": "03ad3dfb-cabc-4b77-c44e-e65ea263e435"
      },
      "execution_count": null,
      "outputs": [
        {
          "output_type": "stream",
          "name": "stdout",
          "text": [
            "택시를 타고 가라\n"
          ]
        },
        {
          "output_type": "execute_result",
          "data": {
            "text/plain": [
              "'\\nmoney는 2000이지만 card가 True이기 때문에 \\nmoney >= 3000 or card 조건문이 참이 된다. 따라서 if문 다음 ‘택시를 타고 가라’ 문장이 출력된다.\\n'"
            ],
            "application/vnd.google.colaboratory.intrinsic+json": {
              "type": "string"
            }
          },
          "metadata": {},
          "execution_count": 5
        }
      ]
    },
    {
      "cell_type": "code",
      "source": [
        "## 택시 예제를 만들어서 설명하겠다.\n",
        "\"\"\"\"만약 주머니에 돈이 있으면 택시를 타고, 없으면 걸어 가라.\"\"\"\n",
        "\n",
        "pocket = ['paper', 'cellphone', 'money']\n",
        "if 'money' in pocket:\n",
        "\tprint(\"택시를 타고 가라\")\n",
        "else:\n",
        "\tprint(\"걸어가라\")\n",
        "\n",
        "## 택시를 타고 가라"
      ],
      "metadata": {
        "colab": {
          "base_uri": "https://localhost:8080/"
        },
        "id": "pbIuqpI9ZPFG",
        "outputId": "b3c207ad-67fe-4df2-d4b0-e974ad49d4d2"
      },
      "execution_count": null,
      "outputs": [
        {
          "output_type": "stream",
          "name": "stdout",
          "text": [
            "택시를 타고 가라\n"
          ]
        }
      ]
    },
    {
      "cell_type": "code",
      "source": [
        "### 만약 조건문이 아무 일도 하지 않게 하고 싶다면???\n",
        "pocket = ['paper', 'money', 'cellphone']\n",
        "if 'money' in pocket:\n",
        "\tpass ## pass 를 사용할 경우에, 아무 결과 값을 보여주지 않는다.\n",
        "else:\n",
        "\tprint(\"카드를 꺼내라\")"
      ],
      "metadata": {
        "id": "5GPTYXlRZgkw"
      },
      "execution_count": null,
      "outputs": []
    },
    {
      "cell_type": "markdown",
      "source": [
        "**PYTHON  기초: 반복문**"
      ],
      "metadata": {
        "id": "-5MSWt7LZyQz"
      }
    },
    {
      "cell_type": "code",
      "source": [
        "import random"
      ],
      "metadata": {
        "id": "g81FPvnQbV4i"
      },
      "execution_count": null,
      "outputs": []
    },
    {
      "cell_type": "code",
      "source": [
        "## 기본적인 반복문\n",
        "### 반복문을 사용해서 음식을 추출하기\n",
        "for i in range(0, 5, 1): ## 시작점(0), 마지막 개수 +1, 늘어나게 할 단위(1)\n",
        "\tprint(random.choice([\"된장찌개\",\"제육볶음\",\"치킨\",\"떡볶이\",\"라면\"]))\n",
        "\n",
        "###제육볶음, 제육볶음, 치킨, 제육볶음, 치킨"
      ],
      "metadata": {
        "colab": {
          "base_uri": "https://localhost:8080/"
        },
        "id": "6XUTkmcXZnsk",
        "outputId": "2c61faa3-25c9-4d8f-d91c-81cf8c8956fd"
      },
      "execution_count": null,
      "outputs": [
        {
          "output_type": "stream",
          "name": "stdout",
          "text": [
            "제육볶음\n",
            "치킨\n",
            "떡볶이\n",
            "제육볶음\n",
            "떡볶이\n"
          ]
        }
      ]
    },
    {
      "cell_type": "code",
      "source": [
        "## 축소형\n",
        "### 처음시작과 늘어나는 숫자가 각각 0, 1 일 경우에는 선택적 생략이 가능\n",
        "# 1. \n",
        "for i in range(0, 5): ## 시작점(0), 마지막 개수 +1, 늘어나게 할 단위(1)\n",
        "\tprint(random.choice([\"된장찌개\",\"제육볶음\",\"치킨\",\"떡볶이\",\"라면\"]))\n",
        "# 2.\n",
        "for i in range(5): ## 시작점(0), 마지막 개수 +1, 늘어나게 할 단위(1)\n",
        "\tprint(random.choice([\"된장찌개\",\"제육볶음\",\"치킨\",\"떡볶이\",\"라면\"]))\n"
      ],
      "metadata": {
        "colab": {
          "base_uri": "https://localhost:8080/"
        },
        "id": "PUZ_mN3_Z9VO",
        "outputId": "a52e9b4f-d3a7-4bcd-adb7-b27c58a0a8fc"
      },
      "execution_count": null,
      "outputs": [
        {
          "output_type": "stream",
          "name": "stdout",
          "text": [
            "치킨\n",
            "떡볶이\n",
            "제육볶음\n",
            "떡볶이\n",
            "치킨\n",
            "떡볶이\n",
            "치킨\n",
            "제육볶음\n",
            "된장찌개\n",
            "된장찌개\n"
          ]
        }
      ]
    },
    {
      "cell_type": "code",
      "source": [
        "# 추가:\n",
        "### i를 사용하지 않을 경우에는 i를 제거한 반복문을 많이 쓰기도 한다.\n",
        "for _ in range(0, 5, 1):\n",
        "\tprint(random.choice([\"된장찌개\",\"제육볶음\",\"치킨\",\"떡볶이\",\"라면\"]))\n",
        "\n",
        "###제육볶음, 된장찌개, 치킨, 떡볶이, 치킨\n"
      ],
      "metadata": {
        "colab": {
          "base_uri": "https://localhost:8080/"
        },
        "id": "inB9C1RxbhKJ",
        "outputId": "24b1e6fa-bddf-4fd6-bc2b-c378756f5600"
      },
      "execution_count": null,
      "outputs": [
        {
          "output_type": "stream",
          "name": "stdout",
          "text": [
            "제육볶음\n",
            "치킨\n",
            "제육볶음\n",
            "라면\n",
            "라면\n"
          ]
        }
      ]
    },
    {
      "cell_type": "code",
      "source": [
        "import random \n",
        "import time \n"
      ],
      "metadata": {
        "id": "btOyUGKgbmKd"
      },
      "execution_count": null,
      "outputs": []
    },
    {
      "cell_type": "code",
      "source": [
        "while True:### 추후에 나오는 조건이 맞다고 하면 계속 실행\n",
        "\tprint(random.choice([\"된장찌개\",\"치킨\",\"떡볶이\",\"라면\",\"감자튀김\"]))\n",
        "\tprint(\"이 문장도 반복되나\")\n",
        "\ttime.sleep(1)## 1초를 쉬면서 반복\n",
        "\n",
        "\tbreak\n"
      ],
      "metadata": {
        "colab": {
          "base_uri": "https://localhost:8080/"
        },
        "id": "gqiSWJIwbw9s",
        "outputId": "c3b2e2f2-4775-4280-83fe-58ec85ac73f0"
      },
      "execution_count": null,
      "outputs": [
        {
          "output_type": "stream",
          "name": "stdout",
          "text": [
            "떡볶이\n",
            "이 문장도 반복되나\n"
          ]
        }
      ]
    },
    {
      "cell_type": "markdown",
      "source": [
        "3. 추가적인 반복문 → 요즘 많이 쓰는 방식\n",
        "    \n",
        "    요즘 유행하는 반복문 방식이더라구요, 참고하시면 좋을 것 같아서 올려봅니다."
      ],
      "metadata": {
        "id": "HdLTPO_FcdNm"
      }
    },
    {
      "cell_type": "code",
      "source": [
        "cnt = int(input()) ## 입력받을 개수를 입력합니다.\n",
        "numbers = list(map(int, input().split()))\n",
        "\"\"\"\n",
        "map 함수를 통하여, 전자에 있는(int)형식의 여러 인풋들을 받습니다. \n",
        "그 개수는 위에 존재하는 cnt 개수만큼 받을 수 있습니다.\n",
        "\"\"\"\n",
        "print(min(numbers),max(numbers))\n",
        "print(\"hello world\")"
      ],
      "metadata": {
        "colab": {
          "base_uri": "https://localhost:8080/"
        },
        "id": "18FsYvIlbz99",
        "outputId": "357d2c70-51bf-42b2-a0fe-5cc622c10f03"
      },
      "execution_count": null,
      "outputs": [
        {
          "output_type": "stream",
          "name": "stdout",
          "text": [
            "3\n",
            "2 5 7\n",
            "2 7\n",
            "hello world\n"
          ]
        }
      ]
    },
    {
      "cell_type": "markdown",
      "source": [
        "## 리스트:\n",
        "\n",
        "리스트는 점검하거나 기억하기 쉽도록 특별한 순서로 적어놓은 것입니다. 이걸 프로그래밍 언어 차원에서 본다면 데이터들을 잘 관리할 수 있도록 순서를 정해서 관리하는 데이터 타입의 하나 입니다. \n",
        "\n",
        "리스트에서는 대괄호 \"[, ]\"를 이용해서 리스트를 만듭니다"
      ],
      "metadata": {
        "id": "l4prrsOTe9xw"
      }
    },
    {
      "cell_type": "code",
      "source": [
        "a = [1, 2, 3, 4, 5]\n",
        "b = ['blockdmask', 2, 4, 'blog']\n",
        "c = []\n",
        "\"\"\"\n",
        "이렇게 대괄호를 이용해서 리스트를 만들 수 있으며, 리스트 내부에 값은 스트링이 오든, 숫자가 오든 데이터 타입이 통일되지 않아도 상관없습니다.\n",
        "또한, c를 보면 아무것도 넣지 않은 [] 대괄호만 있는걸 보실수 있는데, 이것은 위에서 말했듯, 요소가 없는 비어있는 리스트를 말합니다.\n",
        "\"\"\""
      ],
      "metadata": {
        "id": "WEyqVKp-cNhK"
      },
      "execution_count": null,
      "outputs": []
    },
    {
      "cell_type": "markdown",
      "source": [
        "파이썬은 특이하게도 위처럼 리스트에 데이터 타입이 통일되지 않아도 상관없다"
      ],
      "metadata": {
        "id": "yjzFR1IIfUSf"
      }
    },
    {
      "cell_type": "code",
      "source": [
        "# 리스트 덧셈\n",
        "a = [\"BlockDMask\", 333]\n",
        "b = [1, 2, 3]\n",
        " \n",
        "print(a + b)\n",
        "#['BlockDMask', 333, 1, 2, 3]\n"
      ],
      "metadata": {
        "colab": {
          "base_uri": "https://localhost:8080/"
        },
        "id": "--ULxkv8fb28",
        "outputId": "cc23fe3e-594b-4e53-c44d-a5215a5ec22d"
      },
      "execution_count": null,
      "outputs": [
        {
          "output_type": "stream",
          "name": "stdout",
          "text": [
            "['BlockDMask', 333, 1, 2, 3]\n"
          ]
        }
      ]
    },
    {
      "cell_type": "code",
      "source": [
        "# 리스트 \n",
        "a = [1, 2, 3]\n",
        " \n",
        "b = a * 3\n",
        "print(b)\n",
        "# [1, 2, 3, 1, 2, 3, 1, 2, 3]\n",
        "c = a * 0\n",
        "print(c)\n",
        "# []"
      ],
      "metadata": {
        "colab": {
          "base_uri": "https://localhost:8080/"
        },
        "id": "FoTIJnSVfkjX",
        "outputId": "44094cf2-672c-4510-ffd1-e5338b275d58"
      },
      "execution_count": null,
      "outputs": [
        {
          "output_type": "stream",
          "name": "stdout",
          "text": [
            "[1, 2, 3, 1, 2, 3, 1, 2, 3]\n",
            "[]\n"
          ]
        }
      ]
    },
    {
      "cell_type": "code",
      "source": [
        "# 3. 파이썬 리스트의 인덱싱과 슬라이싱에 대해서\n",
        "## 리스트 인덱싱1 : 리스트 검색, 접근\n",
        "\"\"\"\n",
        "파이썬의 리스트는 시퀀스 데이터 타입이기 때문에 인덱스를 이용해서 접근을 할 수 있습니다.\n",
        "즉, 각 요소 마다 자리표가 있어서 우리는 리스트 a에 1번 손님 앞으로 나오세요~\n",
        "이게 가능하다는 그말 입니다. 그걸 코드로 한번 볼까요?\n",
        "앗 그리고 리스트의 자리표(index)는 0번부터 시작하게 됩니다.\n",
        "\"\"\"\n",
        "# 리스트 인덱싱\n",
        "# 길이가 8인 리스트\n",
        "a = [101, 102, 'b', 'l', 'o', 103, 104, 105]\n",
        " \n",
        "# 인자 접근\n",
        "a[1]\n",
        "a[2]\n",
        "a[3]\n",
        "a[4]\n",
        "a[5]\n",
        "a[7]\n",
        "## a[8]\n",
        "\n",
        "## 마이너스로 접근이 가능하다.\n",
        "a[-1]\n",
        "a[-2]\n",
        "a[-3]\n",
        "a[-4]\n",
        "a[-5]\n",
        "a[-7]\n",
        "#a[-9]\n",
        "\"\"\"\n",
        "길이가 8인 리스트에서 접근 할 수 있는 인덱스는\n",
        "양수 : 왼쪽에서 오른쪽 방향은 0부터 7까지 접근이 가능하고\n",
        "음수 : 오른쪽 에서 왼쪽 방향은 -1 부터 -8 까지 접근이 가능\n",
        "\n",
        "\n",
        "N인 리스트를 인덱스 할 수 있는 범위는\n",
        "양수 0 ~ N-1 까지\n",
        "음수 -N ~ -1 까지\n",
        "결론적으로 -N 부터 N-1 구간 까지 접근이 가능\n",
        "\"\"\""
      ],
      "metadata": {
        "colab": {
          "base_uri": "https://localhost:8080/",
          "height": 90
        },
        "id": "KgvV7K9MfnB6",
        "outputId": "e7821f28-08f7-46c4-8add-39fd593f1730"
      },
      "execution_count": null,
      "outputs": [
        {
          "output_type": "execute_result",
          "data": {
            "text/plain": [
              "'\\n길이가 8인 리스트에서 접근 할 수 있는 인덱스는\\n양수 : 왼쪽에서 오른쪽 방향은 0부터 7까지 접근이 가능하고\\n음수 : 오른쪽 에서 왼쪽 방향은 -1 부터 -8 까지 접근이 가능\\n\\n\\nN인 리스트를 인덱스 할 수 있는 범위는\\n양수 0 ~ N-1 까지\\n음수 -N ~ -1 까지\\n결론적으로 -N 부터 N-1 구간 까지 접근이 가능\\n'"
            ],
            "application/vnd.google.colaboratory.intrinsic+json": {
              "type": "string"
            }
          },
          "metadata": {},
          "execution_count": 21
        }
      ]
    },
    {
      "cell_type": "code",
      "source": [
        "a[1]"
      ],
      "metadata": {
        "colab": {
          "base_uri": "https://localhost:8080/"
        },
        "id": "-NHR4pFggEq5",
        "outputId": "b9079258-24bc-46a5-a930-bed3006b8c8a"
      },
      "execution_count": null,
      "outputs": [
        {
          "output_type": "execute_result",
          "data": {
            "text/plain": [
              "102"
            ]
          },
          "metadata": {},
          "execution_count": 22
        }
      ]
    },
    {
      "cell_type": "code",
      "source": [
        "a[-4]"
      ],
      "metadata": {
        "colab": {
          "base_uri": "https://localhost:8080/",
          "height": 35
        },
        "id": "KPJM3q9VgIav",
        "outputId": "b0cc5298-a689-4e89-94d3-3a4ea93f421b"
      },
      "execution_count": null,
      "outputs": [
        {
          "output_type": "execute_result",
          "data": {
            "text/plain": [
              "'o'"
            ],
            "application/vnd.google.colaboratory.intrinsic+json": {
              "type": "string"
            }
          },
          "metadata": {},
          "execution_count": 23
        }
      ]
    },
    {
      "cell_type": "code",
      "source": [
        "# 리스트 값 수정\n",
        "b = [222, 333, 444, 555]"
      ],
      "metadata": {
        "id": "ZBLzCl4DgLT0"
      },
      "execution_count": null,
      "outputs": []
    },
    {
      "cell_type": "code",
      "source": [
        "b[0] = 9"
      ],
      "metadata": {
        "id": "ytXq9PGsgWAU"
      },
      "execution_count": null,
      "outputs": []
    },
    {
      "cell_type": "code",
      "source": [
        "print(f'b[0] = 10')"
      ],
      "metadata": {
        "colab": {
          "base_uri": "https://localhost:8080/"
        },
        "id": "cNsvsxChgZb2",
        "outputId": "ea2a3141-780d-4fb6-90dc-7b70a5dee7fb"
      },
      "execution_count": null,
      "outputs": [
        {
          "output_type": "stream",
          "name": "stdout",
          "text": [
            "b[0] = 10\n"
          ]
        }
      ]
    },
    {
      "cell_type": "markdown",
      "source": [
        "위에 프린트 앞에 f를 붙이는 것은 무엇일까?\n",
        "\n",
        "f-string의 모양은 f와 {}만 알면 됩니다. 문자열 맨 앞에 f를 붙여주고, 중괄호 안에 직접 변수 이름이나 출력하고 싶은것을 바로 넣으면 됩니다.\n",
        "f'문자열 {변수} 문자열'\n",
        "\n",
        "출처: https://blockdmask.tistory.com/429 [개발자 지망생]"
      ],
      "metadata": {
        "id": "OBD2u2Ozg1Hn"
      }
    },
    {
      "cell_type": "code",
      "source": [
        "print(b)"
      ],
      "metadata": {
        "colab": {
          "base_uri": "https://localhost:8080/"
        },
        "id": "q0c8Hh_NgijE",
        "outputId": "2b654f47-4940-476f-d276-7c99e252a49a"
      },
      "execution_count": null,
      "outputs": [
        {
          "output_type": "stream",
          "name": "stdout",
          "text": [
            "[9, 333, 444, 555]\n"
          ]
        }
      ]
    },
    {
      "cell_type": "code",
      "source": [
        "#리스트 슬라이싱 : 리스트 자르기\n",
        "\"\"\"\n",
        "리스트 슬라이싱이라는것은 리스트를 잘라버린다는것 입니다. 리스트를 다루다 보면 필요한 부분만 잘라서 쓰고 싶고, 필요없는 부분은 잘라 내야하는 경우가 있습니다.\n",
        "\n",
        "파이썬에서는 슬라이싱을 [] 대괄호에서 콜론 : 을 이용해서 진행을 합니다.\n",
        ": 콜론은 ~에서 ~까지를 나타내는 것을 말합니다.\n",
        "\"\"\"\n",
        "## 해당 리스트의 원하는 부분을 잘라서 리스트로 반환해주는것을 리스트 슬라이싱라고 합니다.\n",
        "\n",
        "## 리스트[원하는 시작 index : 원하는 끝 index + 1\n",
        "\n",
        "# 리스트 \n",
        "# 길이가 8인 리스트\n",
        "a = [101, 102, 'b', 'l', 'o', 103, 104, 105]"
      ],
      "metadata": {
        "id": "KM5k-5legsE5"
      },
      "execution_count": null,
      "outputs": []
    },
    {
      "cell_type": "code",
      "source": [
        "# a[1] 부터 ~ a[2] 까지 슬라이싱\n",
        "a[1:3]"
      ],
      "metadata": {
        "colab": {
          "base_uri": "https://localhost:8080/"
        },
        "id": "AmrVCtjnhgdw",
        "outputId": "56be736b-c9c2-4fe8-fceb-5df6814fcd44"
      },
      "execution_count": null,
      "outputs": [
        {
          "output_type": "execute_result",
          "data": {
            "text/plain": [
              "[102, 'b']"
            ]
          },
          "metadata": {},
          "execution_count": 29
        }
      ]
    },
    {
      "cell_type": "code",
      "source": [
        "# a[1] 부터 ~ a[6] 까지 슬라이싱\n",
        "a[1:7]"
      ],
      "metadata": {
        "colab": {
          "base_uri": "https://localhost:8080/"
        },
        "id": "IvyOoMqKhjHA",
        "outputId": "097662a5-a8fa-48fa-c1be-6d6a5b598a00"
      },
      "execution_count": null,
      "outputs": [
        {
          "output_type": "execute_result",
          "data": {
            "text/plain": [
              "[102, 'b', 'l', 'o', 103, 104]"
            ]
          },
          "metadata": {},
          "execution_count": 30
        }
      ]
    },
    {
      "cell_type": "code",
      "source": [
        "# a[1] 부터 ~ a[7] 까지 슬라이싱 (리스트 끝 까지1)\n",
        "a[1:8]"
      ],
      "metadata": {
        "colab": {
          "base_uri": "https://localhost:8080/"
        },
        "id": "YWhn1VTmhnCg",
        "outputId": "0ea7501a-48c3-445c-fa89-7f11b74975cf"
      },
      "execution_count": null,
      "outputs": [
        {
          "output_type": "execute_result",
          "data": {
            "text/plain": [
              "[102, 'b', 'l', 'o', 103, 104, 105]"
            ]
          },
          "metadata": {},
          "execution_count": 31
        }
      ]
    },
    {
      "cell_type": "code",
      "source": [
        "# a[1] 부터 리스트 끝까지 슬라이싱 (리스트 끝 까지2)\n",
        "a[1:]"
      ],
      "metadata": {
        "colab": {
          "base_uri": "https://localhost:8080/"
        },
        "id": "4casDXIFhsAH",
        "outputId": "37e1e4e4-b6b3-49f9-fef5-70d567f5af11"
      },
      "execution_count": null,
      "outputs": [
        {
          "output_type": "execute_result",
          "data": {
            "text/plain": [
              "[102, 'b', 'l', 'o', 103, 104, 105]"
            ]
          },
          "metadata": {},
          "execution_count": 32
        }
      ]
    },
    {
      "cell_type": "code",
      "source": [
        "# 리스트 맨 앞에서 부터 맨 뒤 끝 까지\n",
        "a[:]"
      ],
      "metadata": {
        "colab": {
          "base_uri": "https://localhost:8080/"
        },
        "id": "iMytO9jmht9e",
        "outputId": "48478709-6921-4a0d-d20e-5f751bf8e224"
      },
      "execution_count": null,
      "outputs": [
        {
          "output_type": "execute_result",
          "data": {
            "text/plain": [
              "[101, 102, 'b', 'l', 'o', 103, 104, 105]"
            ]
          },
          "metadata": {},
          "execution_count": 33
        }
      ]
    },
    {
      "cell_type": "code",
      "source": [
        "# 리스트 맨 앞에서 특정 부분 까지\n",
        "a[:3]"
      ],
      "metadata": {
        "colab": {
          "base_uri": "https://localhost:8080/"
        },
        "id": "XrQZfkvzhyFi",
        "outputId": "0dd6d5bd-a0a5-4a7a-eaff-cc04c63e817b"
      },
      "execution_count": null,
      "outputs": [
        {
          "output_type": "execute_result",
          "data": {
            "text/plain": [
              "[101, 102, 'b']"
            ]
          },
          "metadata": {},
          "execution_count": 34
        }
      ]
    },
    {
      "cell_type": "code",
      "source": [
        "# 리스트 반으로 뚝딱 나누기 1\n",
        "a[:4]\n",
        "a[4:]\n",
        " "
      ],
      "metadata": {
        "colab": {
          "base_uri": "https://localhost:8080/"
        },
        "id": "vsEieIE-h0Fp",
        "outputId": "a11220a6-9407-40c8-c894-9fcc40572a1f"
      },
      "execution_count": null,
      "outputs": [
        {
          "output_type": "execute_result",
          "data": {
            "text/plain": [
              "['o', 103, 104, 105]"
            ]
          },
          "metadata": {},
          "execution_count": 35
        }
      ]
    },
    {
      "cell_type": "code",
      "source": [
        "a[:4]"
      ],
      "metadata": {
        "colab": {
          "base_uri": "https://localhost:8080/"
        },
        "id": "rfe7EtiBh3Jm",
        "outputId": "d29129af-7eb0-4219-e9e9-0ec534e80f72"
      },
      "execution_count": null,
      "outputs": [
        {
          "output_type": "execute_result",
          "data": {
            "text/plain": [
              "[101, 102, 'b', 'l']"
            ]
          },
          "metadata": {},
          "execution_count": 36
        }
      ]
    },
    {
      "cell_type": "code",
      "source": [
        "# 리스트 반으로 나누기 2\n",
        "# 리스트 길이를 가지고 오는 len 내장함수 이용\n",
        "w = int(len(a) / 2)\n",
        "a[:w]"
      ],
      "metadata": {
        "colab": {
          "base_uri": "https://localhost:8080/"
        },
        "id": "GPRSCt3lh7dJ",
        "outputId": "bffe7a28-3a6c-4db1-f0b3-68442f81f247"
      },
      "execution_count": null,
      "outputs": [
        {
          "output_type": "execute_result",
          "data": {
            "text/plain": [
              "[101, 102, 'b', 'l']"
            ]
          },
          "metadata": {},
          "execution_count": 37
        }
      ]
    },
    {
      "cell_type": "code",
      "source": [
        "a[w:]"
      ],
      "metadata": {
        "colab": {
          "base_uri": "https://localhost:8080/"
        },
        "id": "yPI24GTth-rq",
        "outputId": "2ab6121e-9404-48b0-cd6c-dbab983e7697"
      },
      "execution_count": null,
      "outputs": [
        {
          "output_type": "execute_result",
          "data": {
            "text/plain": [
              "['o', 103, 104, 105]"
            ]
          },
          "metadata": {},
          "execution_count": 38
        }
      ]
    },
    {
      "cell_type": "code",
      "source": [
        "# 마이너스는 통할까?\n",
        "a[-2:]"
      ],
      "metadata": {
        "colab": {
          "base_uri": "https://localhost:8080/"
        },
        "id": "06sJwTMGiA02",
        "outputId": "5ad5b334-b347-4523-cc97-838deb5a7385"
      },
      "execution_count": null,
      "outputs": [
        {
          "output_type": "execute_result",
          "data": {
            "text/plain": [
              "[104, 105]"
            ]
          },
          "metadata": {},
          "execution_count": 39
        }
      ]
    },
    {
      "cell_type": "code",
      "source": [
        "a[-1:]"
      ],
      "metadata": {
        "colab": {
          "base_uri": "https://localhost:8080/"
        },
        "id": "usqoPEfNiDx6",
        "outputId": "38b4f562-77a3-4a6e-9cfd-5048106dbe8d"
      },
      "execution_count": null,
      "outputs": [
        {
          "output_type": "execute_result",
          "data": {
            "text/plain": [
              "[105]"
            ]
          },
          "metadata": {},
          "execution_count": 40
        }
      ]
    },
    {
      "cell_type": "code",
      "source": [
        "a[-5:-1]"
      ],
      "metadata": {
        "colab": {
          "base_uri": "https://localhost:8080/"
        },
        "id": "pVNtdHZtiGF6",
        "outputId": "b5a40089-6a65-4b26-f7f2-4c0bd36f4e07"
      },
      "execution_count": null,
      "outputs": [
        {
          "output_type": "execute_result",
          "data": {
            "text/plain": [
              "['l', 'o', 103, 104]"
            ]
          },
          "metadata": {},
          "execution_count": 41
        }
      ]
    },
    {
      "cell_type": "code",
      "source": [
        "a[:-5]"
      ],
      "metadata": {
        "colab": {
          "base_uri": "https://localhost:8080/"
        },
        "id": "EhYE7uY6iIjf",
        "outputId": "53ca8c76-e48a-4d3f-bf77-5f49dda2f54a"
      },
      "execution_count": null,
      "outputs": [
        {
          "output_type": "execute_result",
          "data": {
            "text/plain": [
              "[101, 102, 'b']"
            ]
          },
          "metadata": {},
          "execution_count": 42
        }
      ]
    },
    {
      "cell_type": "code",
      "source": [
        "# 리스트 길이 구하기\n",
        "c = [1, 2, 3, 4, 5, 6, 7]"
      ],
      "metadata": {
        "id": "lDx_61xKiKRC"
      },
      "execution_count": null,
      "outputs": []
    },
    {
      "cell_type": "code",
      "source": [
        "c"
      ],
      "metadata": {
        "colab": {
          "base_uri": "https://localhost:8080/"
        },
        "id": "Ftdmm-r-ikCU",
        "outputId": "2311b497-612a-4ac8-80db-fdaf8778de59"
      },
      "execution_count": null,
      "outputs": [
        {
          "output_type": "execute_result",
          "data": {
            "text/plain": [
              "[1, 2, 3, 4, 5, 6, 7]"
            ]
          },
          "metadata": {},
          "execution_count": 44
        }
      ]
    },
    {
      "cell_type": "code",
      "source": [
        "len(c)"
      ],
      "metadata": {
        "colab": {
          "base_uri": "https://localhost:8080/"
        },
        "id": "V1yV8Bm1ioQM",
        "outputId": "41dc25c5-3a05-497d-b381-9d8797d5d007"
      },
      "execution_count": null,
      "outputs": [
        {
          "output_type": "execute_result",
          "data": {
            "text/plain": [
              "7"
            ]
          },
          "metadata": {},
          "execution_count": 45
        }
      ]
    },
    {
      "cell_type": "code",
      "source": [
        "c = [100, 200, 300, 400, 500, 600, 700]"
      ],
      "metadata": {
        "id": "1zq7E5UUiqKN"
      },
      "execution_count": null,
      "outputs": []
    },
    {
      "cell_type": "code",
      "source": [
        "del(c[1])"
      ],
      "metadata": {
        "id": "ZqvqZxm6ivNo"
      },
      "execution_count": null,
      "outputs": []
    },
    {
      "cell_type": "code",
      "source": [
        "c"
      ],
      "metadata": {
        "colab": {
          "base_uri": "https://localhost:8080/"
        },
        "id": "_rdNI-vqixEm",
        "outputId": "bf710af7-322c-4916-9778-0160757d9372"
      },
      "execution_count": null,
      "outputs": [
        {
          "output_type": "execute_result",
          "data": {
            "text/plain": [
              "[100, 300, 400, 500, 600, 700]"
            ]
          },
          "metadata": {},
          "execution_count": 48
        }
      ]
    },
    {
      "cell_type": "code",
      "source": [
        "# 범위 삭제\n",
        "del(c[1:4])\n",
        "del(c[1:4])\n",
        "c"
      ],
      "metadata": {
        "colab": {
          "base_uri": "https://localhost:8080/"
        },
        "id": "2k4DgAjPiy1S",
        "outputId": "a32e4b8d-bbf3-423d-e46e-dd4d694bc7f7"
      },
      "execution_count": null,
      "outputs": [
        {
          "output_type": "execute_result",
          "data": {
            "text/plain": [
              "[100]"
            ]
          },
          "metadata": {},
          "execution_count": 49
        }
      ]
    },
    {
      "cell_type": "code",
      "source": [
        "### 5. 리스트 메서드 append, insert, remove, pop, extend\n",
        "\n",
        "#list.append(x) - 리스트에 값 추가\n",
        "\"\"\"\n",
        "리스트의 append 함수를 이용해서 리스트의 끝에 값 x를 추가하는 함수 입니다.\n",
        "\"\"\"\n",
        "\n",
        "a = [2, 9, 4]\n",
        "print(a)"
      ],
      "metadata": {
        "colab": {
          "base_uri": "https://localhost:8080/"
        },
        "id": "hUadt_KVi7co",
        "outputId": "df97109e-eb57-4f55-fe76-bc2f633bb53e"
      },
      "execution_count": null,
      "outputs": [
        {
          "output_type": "stream",
          "name": "stdout",
          "text": [
            "[2, 9, 4]\n"
          ]
        }
      ]
    },
    {
      "cell_type": "code",
      "source": [
        "a.append('k')\n",
        "print(a)"
      ],
      "metadata": {
        "colab": {
          "base_uri": "https://localhost:8080/"
        },
        "id": "7RyhC5FekA9c",
        "outputId": "92b4d368-0450-4f98-ddf2-02abb1cd2575"
      },
      "execution_count": null,
      "outputs": [
        {
          "output_type": "stream",
          "name": "stdout",
          "text": [
            "[2, 9, 4, 'k']\n"
          ]
        }
      ]
    },
    {
      "cell_type": "code",
      "source": [
        "a.append(100)\n",
        "print(a)"
      ],
      "metadata": {
        "colab": {
          "base_uri": "https://localhost:8080/"
        },
        "id": "kLa4wehwkEYU",
        "outputId": "a37c7325-edc8-4982-8d03-422974dcc91d"
      },
      "execution_count": null,
      "outputs": [
        {
          "output_type": "stream",
          "name": "stdout",
          "text": [
            "[2, 9, 4, 'k', 100]\n"
          ]
        }
      ]
    },
    {
      "cell_type": "code",
      "source": [
        "### list.insert(a, b) - 특정 위치에 값 추가\n",
        "\"\"\"\n",
        "리스트의 a위치에 b 값을 추가하는 함수 입니다.\n",
        "a는 index 를 말합니다.\n",
        "\"\"\"\n",
        "c = [22, 44, 66, 88]\n",
        "print(c)"
      ],
      "metadata": {
        "colab": {
          "base_uri": "https://localhost:8080/"
        },
        "id": "tL96VYunkGH0",
        "outputId": "8b872ec7-c754-4659-f099-c7bb827f7bf0"
      },
      "execution_count": null,
      "outputs": [
        {
          "output_type": "stream",
          "name": "stdout",
          "text": [
            "[22, 44, 66, 88]\n"
          ]
        }
      ]
    },
    {
      "cell_type": "code",
      "source": [
        "c.insert(0, 'k')\n",
        "print(c)"
      ],
      "metadata": {
        "colab": {
          "base_uri": "https://localhost:8080/"
        },
        "id": "QyQ9A7b5kJBw",
        "outputId": "16251337-9878-4b9c-a8a9-26934c76dbed"
      },
      "execution_count": null,
      "outputs": [
        {
          "output_type": "stream",
          "name": "stdout",
          "text": [
            "['k', 22, 44, 66, 88]\n"
          ]
        }
      ]
    },
    {
      "cell_type": "code",
      "source": [
        "c.insert(3, 'm')\n",
        "print(c)"
      ],
      "metadata": {
        "colab": {
          "base_uri": "https://localhost:8080/"
        },
        "id": "2wrbiINRkLL_",
        "outputId": "fc26efd1-3ea6-4a8b-9baa-a471d62ac1e6"
      },
      "execution_count": null,
      "outputs": [
        {
          "output_type": "stream",
          "name": "stdout",
          "text": [
            "['k', 22, 44, 'm', 66, 88]\n"
          ]
        }
      ]
    },
    {
      "cell_type": "code",
      "source": [
        "# list.remove(x) - 리스트에서 특정 값 제거\n",
        "\"\"\"\n",
        "리스트에서 특정 값 x를 찾아서 제거하는 함수입니다.\n",
        "해당 값 x가 여러개 있다면? x가 없다면? 어떻게 될까요?\n",
        "\"\"\"\n",
        "\n",
        "c = [22, 44, 66, 88, 44, 11, 44]\n",
        "c"
      ],
      "metadata": {
        "colab": {
          "base_uri": "https://localhost:8080/"
        },
        "id": "UgUz7wipkOLb",
        "outputId": "86f7d02a-5c53-4358-efe1-3d937b80e059"
      },
      "execution_count": null,
      "outputs": [
        {
          "output_type": "execute_result",
          "data": {
            "text/plain": [
              "[22, 44, 66, 88, 44, 11, 44]"
            ]
          },
          "metadata": {},
          "execution_count": 56
        }
      ]
    },
    {
      "cell_type": "code",
      "source": [
        "# remove() 값이 하나일때\n",
        "c.remove(66)"
      ],
      "metadata": {
        "id": "17V_PGCakSZm"
      },
      "execution_count": null,
      "outputs": []
    },
    {
      "cell_type": "code",
      "source": [
        "c"
      ],
      "metadata": {
        "colab": {
          "base_uri": "https://localhost:8080/"
        },
        "id": "IwCq0qjdkUz1",
        "outputId": "6471708b-b450-4261-c264-edc02ca746bb"
      },
      "execution_count": null,
      "outputs": [
        {
          "output_type": "execute_result",
          "data": {
            "text/plain": [
              "[22, 44, 88, 44, 11, 44]"
            ]
          },
          "metadata": {},
          "execution_count": 58
        }
      ]
    },
    {
      "cell_type": "code",
      "source": [
        "# remove() 값이 두개 이상일때\n",
        "c.remove(44)\n",
        "c"
      ],
      "metadata": {
        "colab": {
          "base_uri": "https://localhost:8080/"
        },
        "id": "SXxlqktUkWiH",
        "outputId": "84998e50-d848-4590-d0dc-04c3d038b2eb"
      },
      "execution_count": null,
      "outputs": [
        {
          "output_type": "execute_result",
          "data": {
            "text/plain": [
              "[22, 88, 44, 11, 44]"
            ]
          },
          "metadata": {},
          "execution_count": 59
        }
      ]
    },
    {
      "cell_type": "code",
      "source": [
        "# remove() 값이 없을때 (error)\n",
        "c.remove(1000)\n"
      ],
      "metadata": {
        "colab": {
          "base_uri": "https://localhost:8080/",
          "height": 190
        },
        "id": "8AIucFLgkZWI",
        "outputId": "a8fc65e7-9945-4250-b56b-f18b1643ae65"
      },
      "execution_count": null,
      "outputs": [
        {
          "output_type": "error",
          "ename": "ValueError",
          "evalue": "ignored",
          "traceback": [
            "\u001b[0;31m---------------------------------------------------------------------------\u001b[0m",
            "\u001b[0;31mValueError\u001b[0m                                Traceback (most recent call last)",
            "\u001b[0;32m<ipython-input-60-f5fd7f2f1511>\u001b[0m in \u001b[0;36m<module>\u001b[0;34m()\u001b[0m\n\u001b[1;32m      1\u001b[0m \u001b[0;31m# remove() 값이 없을때 (error)\u001b[0m\u001b[0;34m\u001b[0m\u001b[0;34m\u001b[0m\u001b[0;34m\u001b[0m\u001b[0m\n\u001b[0;32m----> 2\u001b[0;31m \u001b[0mc\u001b[0m\u001b[0;34m.\u001b[0m\u001b[0mremove\u001b[0m\u001b[0;34m(\u001b[0m\u001b[0;36m1000\u001b[0m\u001b[0;34m)\u001b[0m\u001b[0;34m\u001b[0m\u001b[0;34m\u001b[0m\u001b[0m\n\u001b[0m",
            "\u001b[0;31mValueError\u001b[0m: list.remove(x): x not in list"
          ]
        }
      ]
    },
    {
      "cell_type": "code",
      "source": [
        "# list.pop() - 리스트 맨 마지막 값 반환 후 삭제\n",
        "\"\"\"\n",
        "리스트에 있는 맨 마지막 값을 반환한 후에 리스트에서 해당 값을 삭제하는 함수 입니다.\n",
        "맨 마지막 값을 제거 하기 위한 용도로만 사용하셔도 되고,\n",
        "맨 마지막 값을 읽어오고 제거 하기 위한 용도로 사용 할 수 도 있습니다.\n",
        "\"\"\"\n",
        "\n",
        "a = [9, 8, 7, 6, 5]\n",
        "a"
      ],
      "metadata": {
        "colab": {
          "base_uri": "https://localhost:8080/"
        },
        "id": "puRiFejakjV3",
        "outputId": "4c5b709f-0cc6-4f27-c458-21b811e3a179"
      },
      "execution_count": null,
      "outputs": [
        {
          "output_type": "execute_result",
          "data": {
            "text/plain": [
              "[9, 8, 7, 6, 5]"
            ]
          },
          "metadata": {},
          "execution_count": 61
        }
      ]
    },
    {
      "cell_type": "code",
      "source": [
        "b = a.pop()\n",
        "b"
      ],
      "metadata": {
        "colab": {
          "base_uri": "https://localhost:8080/"
        },
        "id": "imJwBQ_4km7h",
        "outputId": "e50d2a32-17a8-4de9-ef8f-000593acc9fb"
      },
      "execution_count": null,
      "outputs": [
        {
          "output_type": "execute_result",
          "data": {
            "text/plain": [
              "5"
            ]
          },
          "metadata": {},
          "execution_count": 62
        }
      ]
    },
    {
      "cell_type": "code",
      "source": [
        "a\n",
        "c = a.pop()\n",
        "c\n",
        "a\n",
        " "
      ],
      "metadata": {
        "colab": {
          "base_uri": "https://localhost:8080/"
        },
        "id": "Hr5BEKCtkphs",
        "outputId": "3b48856c-05ee-4d8d-b772-4c5bfa23735e"
      },
      "execution_count": null,
      "outputs": [
        {
          "output_type": "execute_result",
          "data": {
            "text/plain": [
              "[9, 8, 7]"
            ]
          },
          "metadata": {},
          "execution_count": 63
        }
      ]
    },
    {
      "cell_type": "code",
      "source": [
        "d = a.pop()\n",
        "d\n",
        "a"
      ],
      "metadata": {
        "colab": {
          "base_uri": "https://localhost:8080/"
        },
        "id": "SfC1Y8fckyEh",
        "outputId": "835719cc-740b-47c9-c6bd-7e4598c8dc5e"
      },
      "execution_count": null,
      "outputs": [
        {
          "output_type": "execute_result",
          "data": {
            "text/plain": [
              "[9, 8]"
            ]
          },
          "metadata": {},
          "execution_count": 64
        }
      ]
    },
    {
      "cell_type": "code",
      "source": [
        "# list.extend(list2) - 리스트에 다른 리스트2 연결\n",
        "\"\"\"\n",
        "리스트1에 리스트2를 붙이고 싶을때 사용하는 함수 입니다.\n",
        "extend( 매개변수 ) 함수의 매개변수에는 무조건 리스트가 와야합니다.\n",
        "\"\"\"\n",
        "a = [6, 5]\n",
        "b = [3, 2, 1]\n",
        "c = ['blockdmask', 'blog']\n",
        " \n",
        "print(a)\n",
        " \n",
        "a.extend(b)\n",
        "print(a)\n",
        " \n",
        "a.extend(c)\n",
        "print(a)\n",
        "\n",
        "\"\"\"\n",
        "리스트 + 연산자와 extend의 다른점은\n",
        "list1 + list2 는 리스트 두개의 리스트를 연결해서 새로운 list3을 반환하는 것이고 그렇기 때문에 list3 = list1 + list2 이런식으로 해야 이어진 리스트를 받을 수 있습니다.\n",
        "\n",
        "하지만\n",
        "list1.extend(list2)는 list1 리스트 객체에다가 list2를 붙이고, list1 객체를 그대로 사용할 수 있다는 점이 다릅니다.\n",
        "\"\"\""
      ],
      "metadata": {
        "colab": {
          "base_uri": "https://localhost:8080/",
          "height": 144
        },
        "id": "p3TdyaYtkyYk",
        "outputId": "75ab6a68-f376-454e-8c9f-51e6f0ef4f9c"
      },
      "execution_count": null,
      "outputs": [
        {
          "output_type": "stream",
          "name": "stdout",
          "text": [
            "[6, 5]\n",
            "[6, 5, 3, 2, 1]\n",
            "[6, 5, 3, 2, 1, 'blockdmask', 'blog']\n"
          ]
        },
        {
          "output_type": "execute_result",
          "data": {
            "text/plain": [
              "'\\n리스트 + 연산자와 extend의 다른점은\\nlist1 + list2 는 리스트 두개의 리스트를 연결해서 새로운 list3을 반환하는 것이고 그렇기 때문에 list3 = list1 + list2 이런식으로 해야 이어진 리스트를 받을 수 있습니다.\\n\\n하지만\\nlist1.extend(list2)는 list1 리스트 객체에다가 list2를 붙이고, list1 객체를 그대로 사용할 수 있다는 점이 다릅니다.\\n'"
            ],
            "application/vnd.google.colaboratory.intrinsic+json": {
              "type": "string"
            }
          },
          "metadata": {},
          "execution_count": 65
        }
      ]
    },
    {
      "cell_type": "code",
      "source": [
        "### 6. 파이썬 메서드 copy, reverse, sort, count, index, clear\n",
        "# list.copy() - 리스트 복사\n",
        "\"\"\"\n",
        "리스트를 복사할 수 있는 함수 입니다. 복사한 리스트를 반환하는 함수 입니다.\n",
        "\"\"\"\n",
        "a = [100, 200, 300]\n",
        "b = a.copy()\n",
        " \n",
        "print(a)\n",
        "print(b)\n",
        "print(id(a))\n",
        "print(id(b))\n"
      ],
      "metadata": {
        "colab": {
          "base_uri": "https://localhost:8080/"
        },
        "id": "y_UKrIIKlBCM",
        "outputId": "2aa9c114-abc0-41dc-98e9-1aa631814503"
      },
      "execution_count": null,
      "outputs": [
        {
          "output_type": "stream",
          "name": "stdout",
          "text": [
            "[100, 200, 300]\n",
            "[100, 200, 300]\n",
            "140584902689808\n",
            "140584902640496\n"
          ]
        }
      ]
    },
    {
      "cell_type": "code",
      "source": [
        "# list.reverse() - 리스트 뒤집기\n",
        "\"\"\"\n",
        "리스트의 내부 요소들을 싹 뒤집습니다.\n",
        "뒤집은 리스트를 반환하는 것이 아니라. 현재 리스트를 뒤집습니다.\n",
        "\"\"\"\n",
        "a = [100, 200, 300]\n",
        "a.reverse()\n",
        " \n",
        "print(a)"
      ],
      "metadata": {
        "colab": {
          "base_uri": "https://localhost:8080/"
        },
        "id": "876IVtIBlqVw",
        "outputId": "cd0bd6ef-a1a2-493c-8c63-d75bc3e7911e"
      },
      "execution_count": null,
      "outputs": [
        {
          "output_type": "stream",
          "name": "stdout",
          "text": [
            "[300, 200, 100]\n"
          ]
        }
      ]
    },
    {
      "cell_type": "code",
      "source": [
        "# list.sort() - 리스트 정렬\n",
        "\"\"\"\n",
        "리스트의 내부 요소를 정렬해주는 함수입니다.\n",
        "기본적으로는 오름차순으로 정렬이 됩니다.\n",
        "(작은것 이 앞으로 오고, 큰 값들이 뒤로 가는 정렬방식)\n",
        "\n",
        "sort 함수에서 주의해야할 것은 내부 요소의 데이터 타입이 같아야합니다.\n",
        "즉, 비교가 가능한 요소들만 있어야지 sort 함수가 작동할 수 있습니다.\n",
        "간단히 이야기해서 [\"blockdmask\", 1, 2, 3, 'a'] 이런 리스트는 내부에 문자열도 있고 정수도 있고 데이터 타입이 통일되지 않아서 비교가 불가능 하기 때문에 정렬이 불가능 한 것 입니다.\n",
        "비교 불가능 => 정렬 불가능\n",
        "\"\"\"\n",
        "# 정렬 가능!\n",
        "a = [300, 200, 800, 400, 500, 100]\n",
        "a.sort()\n",
        " \n",
        "print(a)"
      ],
      "metadata": {
        "colab": {
          "base_uri": "https://localhost:8080/"
        },
        "id": "kDmcPVLjlw4c",
        "outputId": "da5ed3d1-4bf2-4bac-d0c7-e423640bd88c"
      },
      "execution_count": null,
      "outputs": [
        {
          "output_type": "stream",
          "name": "stdout",
          "text": [
            "[100, 200, 300, 400, 500, 800]\n"
          ]
        }
      ]
    },
    {
      "cell_type": "code",
      "source": [
        "# 정렬 가능!\n",
        "b = ['c', 'fff', 't', 'k', 'a']\n",
        "b.sort()\n",
        " \n",
        "print(b)"
      ],
      "metadata": {
        "colab": {
          "base_uri": "https://localhost:8080/"
        },
        "id": "KquUzphHl325",
        "outputId": "4a022f03-ce13-42d7-b8d8-e2575e4e78d9"
      },
      "execution_count": null,
      "outputs": [
        {
          "output_type": "stream",
          "name": "stdout",
          "text": [
            "['a', 'c', 'fff', 'k', 't']\n"
          ]
        }
      ]
    },
    {
      "cell_type": "code",
      "source": [
        "# 정렬 불가능!\n",
        "c = ['a', 100, 1, 5, 'c', 'b', 'l', 'o']\n",
        "c.sort()\n",
        " \n",
        "#print(c)"
      ],
      "metadata": {
        "colab": {
          "base_uri": "https://localhost:8080/",
          "height": 245
        },
        "id": "zPEdoYKgl-ax",
        "outputId": "463dc87d-dda6-4075-a1cb-70a15d6f9ea8"
      },
      "execution_count": null,
      "outputs": [
        {
          "output_type": "error",
          "ename": "TypeError",
          "evalue": "ignored",
          "traceback": [
            "\u001b[0;31m---------------------------------------------------------------------------\u001b[0m",
            "\u001b[0;31mTypeError\u001b[0m                                 Traceback (most recent call last)",
            "\u001b[0;32m<ipython-input-71-8f43784af682>\u001b[0m in \u001b[0;36m<module>\u001b[0;34m()\u001b[0m\n\u001b[1;32m      1\u001b[0m \u001b[0;31m# 정렬 불가능!\u001b[0m\u001b[0;34m\u001b[0m\u001b[0;34m\u001b[0m\u001b[0;34m\u001b[0m\u001b[0m\n\u001b[1;32m      2\u001b[0m \u001b[0mc\u001b[0m \u001b[0;34m=\u001b[0m \u001b[0;34m[\u001b[0m\u001b[0;34m'a'\u001b[0m\u001b[0;34m,\u001b[0m \u001b[0;36m100\u001b[0m\u001b[0;34m,\u001b[0m \u001b[0;36m1\u001b[0m\u001b[0;34m,\u001b[0m \u001b[0;36m5\u001b[0m\u001b[0;34m,\u001b[0m \u001b[0;34m'c'\u001b[0m\u001b[0;34m,\u001b[0m \u001b[0;34m'b'\u001b[0m\u001b[0;34m,\u001b[0m \u001b[0;34m'l'\u001b[0m\u001b[0;34m,\u001b[0m \u001b[0;34m'o'\u001b[0m\u001b[0;34m]\u001b[0m\u001b[0;34m\u001b[0m\u001b[0;34m\u001b[0m\u001b[0m\n\u001b[0;32m----> 3\u001b[0;31m \u001b[0mc\u001b[0m\u001b[0;34m.\u001b[0m\u001b[0msort\u001b[0m\u001b[0;34m(\u001b[0m\u001b[0;34m)\u001b[0m\u001b[0;34m\u001b[0m\u001b[0;34m\u001b[0m\u001b[0m\n\u001b[0m\u001b[1;32m      4\u001b[0m \u001b[0;34m\u001b[0m\u001b[0m\n\u001b[1;32m      5\u001b[0m \u001b[0;31m#print(c)\u001b[0m\u001b[0;34m\u001b[0m\u001b[0;34m\u001b[0m\u001b[0;34m\u001b[0m\u001b[0m\n",
            "\u001b[0;31mTypeError\u001b[0m: '<' not supported between instances of 'int' and 'str'"
          ]
        }
      ]
    },
    {
      "cell_type": "code",
      "source": [
        "## list.count(x) - 리스트 값 x 의 개수 세기\n",
        "\"\"\"\n",
        "리스트 내부에 매개변수로 전달받은 x와 같은게 몇개가 있는지 세서 그 개수를 반환하는 함수 입니다.\n",
        "리스트 내부에 x와 같은 값의 개수 반환.\n",
        "\"\"\"\n",
        "\n",
        "a = ['b', 'l', 'o', 'c', 'k', 'd', 'm', 'a', 's', 'k']\n",
        "a"
      ],
      "metadata": {
        "colab": {
          "base_uri": "https://localhost:8080/"
        },
        "id": "RxBv0ub_mA38",
        "outputId": "25fd54a5-d05b-4080-9136-f4b932ad6c20"
      },
      "execution_count": null,
      "outputs": [
        {
          "output_type": "execute_result",
          "data": {
            "text/plain": [
              "['b', 'l', 'o', 'c', 'k', 'd', 'm', 'a', 's', 'k']"
            ]
          },
          "metadata": {},
          "execution_count": 72
        }
      ]
    },
    {
      "cell_type": "code",
      "source": [
        "# 리스트에서 'k' 개수 찾기\n",
        "a.count('k')"
      ],
      "metadata": {
        "colab": {
          "base_uri": "https://localhost:8080/"
        },
        "id": "ikwMH00emQbV",
        "outputId": "7f7c855a-b8d4-42df-9bcb-4f1e10739f24"
      },
      "execution_count": null,
      "outputs": [
        {
          "output_type": "execute_result",
          "data": {
            "text/plain": [
              "2"
            ]
          },
          "metadata": {},
          "execution_count": 73
        }
      ]
    },
    {
      "cell_type": "code",
      "source": [
        "# 리스트에는 없는 'z' 개수 찾기\n",
        "a.count('z')"
      ],
      "metadata": {
        "colab": {
          "base_uri": "https://localhost:8080/"
        },
        "id": "Dgtdce4emS3Q",
        "outputId": "9acddac7-afd4-4f25-e013-59e59f8b3149"
      },
      "execution_count": null,
      "outputs": [
        {
          "output_type": "execute_result",
          "data": {
            "text/plain": [
              "0"
            ]
          },
          "metadata": {},
          "execution_count": 74
        }
      ]
    },
    {
      "cell_type": "code",
      "source": [
        "## list.index(x) - 리스트 값 x의 위치(index) 값 반환\n",
        "\"\"\"\n",
        "리스트 내부에 값 x의 위치를 index 로 반환하는 것 입니다.\n",
        "x가 여러개있다면 맨 처음에 나온 x의 index를 반환하게 됩니다.\n",
        "x가 리스트 내부에 없다면 어떤 값을 반환할까요?\n",
        "\"\"\"\n",
        "# 리스트에서 'k' 위치 찾기 (하나인 경우)\n",
        "a.index('d')"
      ],
      "metadata": {
        "colab": {
          "base_uri": "https://localhost:8080/"
        },
        "id": "TH06ztssmUwm",
        "outputId": "2d93b228-2f11-4ed6-8461-e62aca22f380"
      },
      "execution_count": null,
      "outputs": [
        {
          "output_type": "execute_result",
          "data": {
            "text/plain": [
              "5"
            ]
          },
          "metadata": {},
          "execution_count": 75
        }
      ]
    },
    {
      "cell_type": "code",
      "source": [
        "# 리스트에서 'k' 위치 찾기 (여러개인 경우)\n",
        "a.index('k')"
      ],
      "metadata": {
        "colab": {
          "base_uri": "https://localhost:8080/"
        },
        "id": "hg6wegDmmeGb",
        "outputId": "812b54be-1daf-4379-8b24-874980ad4bff"
      },
      "execution_count": null,
      "outputs": [
        {
          "output_type": "execute_result",
          "data": {
            "text/plain": [
              "4"
            ]
          },
          "metadata": {},
          "execution_count": 76
        }
      ]
    },
    {
      "cell_type": "code",
      "source": [
        "## list.clear() - 리스트에 저장된 모든 값 삭제\n",
        "\"\"\"\n",
        "리스트 내부에 존재하는 모든 값들을 삭제 합니다.\n",
        "리스트 자체를 삭제하는게 아니라 내부 값들만 삭제하기 때문에\n",
        "리스트 객체 자체는 남아있고, 내부 값이 없는. 비어있는 리스트가 됩니다.\n",
        "\"\"\"\n",
        "a = ['blockdmask', 1, 2, 3]\n",
        "print(a)"
      ],
      "metadata": {
        "colab": {
          "base_uri": "https://localhost:8080/"
        },
        "id": "kUilGRwTmgnI",
        "outputId": "76b683b7-27fe-4755-c4a5-9d6542f51b0b"
      },
      "execution_count": null,
      "outputs": [
        {
          "output_type": "stream",
          "name": "stdout",
          "text": [
            "['blockdmask', 1, 2, 3]\n"
          ]
        }
      ]
    },
    {
      "cell_type": "code",
      "source": [
        "a.clear()\n",
        "print(a)"
      ],
      "metadata": {
        "colab": {
          "base_uri": "https://localhost:8080/"
        },
        "id": "jAs2nG97mmrH",
        "outputId": "ebeeda99-7c9d-40d3-874c-44f46b9a86cf"
      },
      "execution_count": null,
      "outputs": [
        {
          "output_type": "stream",
          "name": "stdout",
          "text": [
            "[]\n"
          ]
        }
      ]
    },
    {
      "cell_type": "markdown",
      "source": [
        "## 튜플:\n",
        "\n",
        "튜플(tuple)은 몇 가지 점을 제외하곤 리스트와 거의 비슷하며 리스트와 다른 점은 다음과 같습니다.\n",
        "\n",
        "1. 리스트에서는 대괄호 \"[, ]\"를 이용해서 리스트를 만들었다면 튜플에서는 소괄호 \"(, )\"를 이용해서 튜플을 만들 수 있습니다.\n",
        "2. 비어있는 튜플을 만들려면 t1 = () 처럼 비어있는 소괄호를 넣으면 됩니다.\n",
        "3. 눈치가 빠르신 분들은 이미 눈치를 채셨겠지만, 값이 1개만 들어있는 튜플을 만들때에는           t2 = (1, ) 처럼 값을 하나 넣고 콤마(,)를 넣어주어야 합니다. 튜플의 규칙이죠.\n",
        "4. 또 튜플은 set자료형이랑 달리 중복된 값을 넣을 수 있습니다. t3을 보면 5가 두번 있는것을 볼 수 있죠. 튜플은 내부의 값이 중복되도 상관없습니다.\n",
        "\n",
        "위에서 배운 튜플의 특징에 대해서 요약 정리를 해보면 아래와 같습니다. \n",
        "\n",
        "특징1) 소괄호 이용해서 생성 \"(, )\" \n",
        "\n",
        "특징2) 비어있는 튜플은 () \n",
        "\n",
        "특징3) 값이 하나만 있는 튜플은 (5, ) 콤마 하나 꼭 붙여야함 \n",
        "\n",
        "특징4) 값이 중복될 수 있다. 특징5) 튜플의 요소 값은 변경하거나 삭제할 수 없음."
      ],
      "metadata": {
        "id": "dCJ3ipswnaRt"
      }
    },
    {
      "cell_type": "code",
      "source": [
        "## 튜플 기본 모형\n",
        "\n",
        "t1 = ()\n",
        "t2 = (1,)\n",
        "t3 = (1, 2, 3)\n",
        "t4 = 1, 2, 3\n",
        "t5 = ('a', 'b', ('ab', 'cd'))\n",
        "\n",
        "\"\"\"\n",
        "얼핏 보면 튜플과 리스트는 비슷한 역할을 하지만 \n",
        "프로그래밍을 할 때 튜플과 리스트는 구별해서 사용하는 것이 유리합니다. \n",
        "튜플과 리스트의 가장 큰 차이는 값을 변화시킬 수 있는가 여부입니다. \n",
        "즉 리스트의 항목 값은 변화가 가능하고 튜플의 항목 값은 변화가 불가능합니다.\n",
        "따라서 프로그램이 실행되는 동안 그 값이 항상 변하지 않기를 바란다거나 \n",
        "값이 바뀔까 걱정하고 싶지 않다면 주저하지 말고 튜플을 사용해야 합니다. \n",
        "이와는 반대로 수시로 그 값을 변화시켜야할 경우라면 리스트를 사용해야 합니다. \n",
        "실제 프로그램에서는 값이 변경되는 형태의 변수가 훨씬 많기 때문에 \n",
        "평균적으로 튜플보다는 리스트를 더 많이 사용합니다.\n",
        "\"\"\""
      ],
      "metadata": {
        "colab": {
          "base_uri": "https://localhost:8080/",
          "height": 144
        },
        "id": "7Efn0JQEmonI",
        "outputId": "a7796fe5-1887-4b18-d362-44af4ad8e07c"
      },
      "execution_count": null,
      "outputs": [
        {
          "output_type": "execute_result",
          "data": {
            "text/plain": [
              "'\\n얼핏 보면 튜플과 리스트는 비슷한 역할을 하지만 \\n프로그래밍을 할 때 튜플과 리스트는 구별해서 사용하는 것이 유리합니다. \\n튜플과 리스트의 가장 큰 차이는 값을 변화시킬 수 있는가 여부입니다. \\n즉 리스트의 항목 값은 변화가 가능하고 튜플의 항목 값은 변화가 불가능합니다.\\n따라서 프로그램이 실행되는 동안 그 값이 항상 변하지 않기를 바란다거나 \\n값이 바뀔까 걱정하고 싶지 않다면 주저하지 말고 튜플을 사용해야 합니다. \\n이와는 반대로 수시로 그 값을 변화시켜야할 경우라면 리스트를 사용해야 합니다. \\n실제 프로그램에서는 값이 변경되는 형태의 변수가 훨씬 많기 때문에 \\n평균적으로 튜플보다는 리스트를 더 많이 사용합니다.\\n'"
            ],
            "application/vnd.google.colaboratory.intrinsic+json": {
              "type": "string"
            }
          },
          "metadata": {},
          "execution_count": 79
        }
      ]
    },
    {
      "cell_type": "code",
      "source": [
        "## 1. 튜플 요솟값을 삭제하려 할 때\n",
        "\n",
        "t1 = (1, 2, 'a', 'b')\n",
        "del t1[0]\n",
        "## 삭제가 불가능하다.\n",
        "\n",
        "## 2. 튜플 요솟값을 변경하려 할 때\n",
        "t1 = (1, 2, 'a', 'b')\n",
        "t1[0] = 'c'\n",
        "## 변경이 불가능하다."
      ],
      "metadata": {
        "colab": {
          "base_uri": "https://localhost:8080/",
          "height": 245
        },
        "id": "RLYxzRqlnhsa",
        "outputId": "19c781b7-281a-488e-9b0f-e4f853de38fd"
      },
      "execution_count": null,
      "outputs": [
        {
          "output_type": "error",
          "ename": "TypeError",
          "evalue": "ignored",
          "traceback": [
            "\u001b[0;31m---------------------------------------------------------------------------\u001b[0m",
            "\u001b[0;31mTypeError\u001b[0m                                 Traceback (most recent call last)",
            "\u001b[0;32m<ipython-input-80-482cf044a05c>\u001b[0m in \u001b[0;36m<module>\u001b[0;34m()\u001b[0m\n\u001b[1;32m      2\u001b[0m \u001b[0;34m\u001b[0m\u001b[0m\n\u001b[1;32m      3\u001b[0m \u001b[0mt1\u001b[0m \u001b[0;34m=\u001b[0m \u001b[0;34m(\u001b[0m\u001b[0;36m1\u001b[0m\u001b[0;34m,\u001b[0m \u001b[0;36m2\u001b[0m\u001b[0;34m,\u001b[0m \u001b[0;34m'a'\u001b[0m\u001b[0;34m,\u001b[0m \u001b[0;34m'b'\u001b[0m\u001b[0;34m)\u001b[0m\u001b[0;34m\u001b[0m\u001b[0;34m\u001b[0m\u001b[0m\n\u001b[0;32m----> 4\u001b[0;31m \u001b[0;32mdel\u001b[0m \u001b[0mt1\u001b[0m\u001b[0;34m[\u001b[0m\u001b[0;36m0\u001b[0m\u001b[0;34m]\u001b[0m\u001b[0;34m\u001b[0m\u001b[0;34m\u001b[0m\u001b[0m\n\u001b[0m\u001b[1;32m      5\u001b[0m \u001b[0;31m## 삭제가 불가능하다.\u001b[0m\u001b[0;34m\u001b[0m\u001b[0;34m\u001b[0m\u001b[0;34m\u001b[0m\u001b[0m\n\u001b[1;32m      6\u001b[0m \u001b[0;34m\u001b[0m\u001b[0m\n",
            "\u001b[0;31mTypeError\u001b[0m: 'tuple' object doesn't support item deletion"
          ]
        }
      ]
    },
    {
      "cell_type": "code",
      "source": [
        "# 튜플 다루기\n",
        "\n",
        "## 인덱싱하기\n",
        "\n",
        "t1 = (1, 2, 'a', 'b')\n",
        "t1[0] ## 처음 위치하는 값을 가져온다.\n",
        "#1"
      ],
      "metadata": {
        "colab": {
          "base_uri": "https://localhost:8080/"
        },
        "id": "5CGY2a30nkNZ",
        "outputId": "5f0fde9a-f5d1-405d-fd6d-a7a2fed40621"
      },
      "execution_count": null,
      "outputs": [
        {
          "output_type": "execute_result",
          "data": {
            "text/plain": [
              "1"
            ]
          },
          "metadata": {},
          "execution_count": 81
        }
      ]
    },
    {
      "cell_type": "code",
      "source": [
        "t1[3]\n",
        "#'b'"
      ],
      "metadata": {
        "colab": {
          "base_uri": "https://localhost:8080/",
          "height": 35
        },
        "id": "Ak1ZX90Nnp37",
        "outputId": "f2a1047f-9b0b-49df-fef5-9f903751011e"
      },
      "execution_count": null,
      "outputs": [
        {
          "output_type": "execute_result",
          "data": {
            "text/plain": [
              "'b'"
            ],
            "application/vnd.google.colaboratory.intrinsic+json": {
              "type": "string"
            }
          },
          "metadata": {},
          "execution_count": 82
        }
      ]
    },
    {
      "cell_type": "code",
      "source": [
        "t1[-1] ## 마지막에 위치하는 값을 가져온다.\n",
        "#'b'"
      ],
      "metadata": {
        "colab": {
          "base_uri": "https://localhost:8080/",
          "height": 35
        },
        "id": "T9zTudcLnr5l",
        "outputId": "a4efbf3a-0578-4f12-fb0a-ae923443d9a5"
      },
      "execution_count": null,
      "outputs": [
        {
          "output_type": "execute_result",
          "data": {
            "text/plain": [
              "'b'"
            ],
            "application/vnd.google.colaboratory.intrinsic+json": {
              "type": "string"
            }
          },
          "metadata": {},
          "execution_count": 83
        }
      ]
    },
    {
      "cell_type": "code",
      "source": [
        "## 슬라이싱하기\n",
        "t1 = (1, 2, 'a', 'b')\n",
        "t1[1:]\n",
        "# (2, 'a', 'b')\n",
        "## 앞index 에서 부터 뒤index -1 까지의 범위의 요소값을 새로운 튜플로 만들어서 반환\n",
        "\"\"\"슬라이싱을 할 때, [시작 위치: 끝 위치-1]를 지정하는데, 만약에 끝 위치를 지정하지 않았을 경우에는 끝까지 진행하도록 됩니다.\"\"\""
      ],
      "metadata": {
        "colab": {
          "base_uri": "https://localhost:8080/",
          "height": 54
        },
        "id": "WeZXw_vAnuo_",
        "outputId": "752366a5-5900-4358-f2c6-9c8943ff79ea"
      },
      "execution_count": null,
      "outputs": [
        {
          "output_type": "execute_result",
          "data": {
            "text/plain": [
              "'슬라이싱을 할 때, [시작 위치: 끝 위치-1]를 지정하는데, 만약에 끝 위치를 지정하지 않았을 경우에는 끝까지 진행하도록 됩니다.'"
            ],
            "application/vnd.google.colaboratory.intrinsic+json": {
              "type": "string"
            }
          },
          "metadata": {},
          "execution_count": 84
        }
      ]
    },
    {
      "cell_type": "code",
      "source": [
        "t1[1:]"
      ],
      "metadata": {
        "colab": {
          "base_uri": "https://localhost:8080/"
        },
        "id": "QvXd5tFRnxpx",
        "outputId": "598197a5-2626-405e-d9c1-1275d44a2355"
      },
      "execution_count": null,
      "outputs": [
        {
          "output_type": "execute_result",
          "data": {
            "text/plain": [
              "(2, 'a', 'b')"
            ]
          },
          "metadata": {},
          "execution_count": 85
        }
      ]
    },
    {
      "cell_type": "code",
      "source": [
        "t1[1:2]\n",
        "# (2, 'a')"
      ],
      "metadata": {
        "colab": {
          "base_uri": "https://localhost:8080/"
        },
        "id": "WWizvYzln5nD",
        "outputId": "6935e4bb-7ccb-4b5c-b0e7-4e97581b0b3b"
      },
      "execution_count": null,
      "outputs": [
        {
          "output_type": "execute_result",
          "data": {
            "text/plain": [
              "(2,)"
            ]
          },
          "metadata": {},
          "execution_count": 86
        }
      ]
    },
    {
      "cell_type": "code",
      "source": [
        "## 튜플 더하기\n",
        "\n",
        "t1 = (1, 2, 'a', 'b')\n",
        "t2 = (3, 4)\n",
        "t1 + t2\n",
        "# (1, 2, 'a', 'b', 3, 4)\n"
      ],
      "metadata": {
        "colab": {
          "base_uri": "https://localhost:8080/"
        },
        "id": "Fsx5BSe0n-Av",
        "outputId": "18f76f4e-9126-4a4d-ac50-6ee594e53dee"
      },
      "execution_count": null,
      "outputs": [
        {
          "output_type": "execute_result",
          "data": {
            "text/plain": [
              "(1, 2, 'a', 'b', 3, 4)"
            ]
          },
          "metadata": {},
          "execution_count": 87
        }
      ]
    },
    {
      "cell_type": "code",
      "source": [
        "## 튜플 곱하기\n",
        "t2 = (3, 4)\n",
        "t2 * 3\n",
        "# (3, 4, 3, 4, 3, 4)"
      ],
      "metadata": {
        "colab": {
          "base_uri": "https://localhost:8080/"
        },
        "id": "5XK07c9koQAt",
        "outputId": "1aeedb09-ce4c-4330-a974-9787e4d80ff3"
      },
      "execution_count": null,
      "outputs": [
        {
          "output_type": "execute_result",
          "data": {
            "text/plain": [
              "(3, 4, 3, 4, 3, 4)"
            ]
          },
          "metadata": {},
          "execution_count": 88
        }
      ]
    },
    {
      "cell_type": "code",
      "source": [
        "## 튜플 길이 구하기\n",
        "t1 = (1, 2, 'a', 'b')\n",
        "len(t1)\n",
        "# 4"
      ],
      "metadata": {
        "colab": {
          "base_uri": "https://localhost:8080/"
        },
        "id": "YK3rGWGcoSzd",
        "outputId": "b6e17dd8-da63-4a34-b9b7-07f6d3b6698e"
      },
      "execution_count": null,
      "outputs": [
        {
          "output_type": "execute_result",
          "data": {
            "text/plain": [
              "4"
            ]
          },
          "metadata": {},
          "execution_count": 89
        }
      ]
    },
    {
      "cell_type": "code",
      "source": [
        "## 튜플 내부에 값이 있는지 확인하기\n",
        "t1 = (1, 2)\n",
        "t2 = ()\n",
        "t3 = ('b', 'l', 'o', 'c', 'k')\n",
        " \n",
        "if 1 in t1:\n",
        "    print('1 in t1 is true')\n",
        "else:\n",
        "    print('1 in t1 is not true')\n",
        "\n",
        "if 1 in t2:\n",
        "    print('1 in t2 is true')\n",
        "else:\n",
        "    print('1 in t2 is not true')\n",
        "\n",
        "if 'z' in t3:\n",
        "    print('\"z\" in t3 is true')\n",
        "else:\n",
        "    print('\"z\" in t3 is not true')"
      ],
      "metadata": {
        "colab": {
          "base_uri": "https://localhost:8080/"
        },
        "id": "9cW8qXdloUkE",
        "outputId": "b0269b21-aa9a-4632-ba59-19ea3008509c"
      },
      "execution_count": null,
      "outputs": [
        {
          "output_type": "stream",
          "name": "stdout",
          "text": [
            "1 in t1 is true\n",
            "1 in t2 is not true\n",
            "\"z\" in t3 is not true\n"
          ]
        }
      ]
    },
    {
      "cell_type": "code",
      "source": [
        "## 튜플 내부에 값이 몇개 있는지 확인하기 (count)\n",
        "\"\"\"\n",
        "count(k) 함수를 이용하여 튜플 내부에 해당 값이 몇개가 있는지 확인 할 수 있습니다.\n",
        "count(k) 함수는 대소문자를 구분합니다.\n",
        "\"\"\"\n",
        "a = (1, 3, 5, 7, 9, 11)\n",
        "b = ('B', 'l', 'o', 'c', 'k', 'D', 'M', 'a', 's', 'k')\n"
      ],
      "metadata": {
        "id": "C0jOytcio-sN"
      },
      "execution_count": null,
      "outputs": []
    },
    {
      "cell_type": "code",
      "source": [
        "a.count(5)\n",
        "## 1"
      ],
      "metadata": {
        "colab": {
          "base_uri": "https://localhost:8080/"
        },
        "id": "QgyGPVdTqV4m",
        "outputId": "16ffef96-bcb8-4251-d33e-463a1abe0a7f"
      },
      "execution_count": null,
      "outputs": [
        {
          "output_type": "execute_result",
          "data": {
            "text/plain": [
              "1"
            ]
          },
          "metadata": {},
          "execution_count": 92
        }
      ]
    },
    {
      "cell_type": "code",
      "source": [
        "a = 3, 4, 5\n",
        "b = 7,\n",
        "c = 'o', 'p', 'q'\n",
        "\n",
        "### 추가:\n",
        "## 괄호 생략이 가능하다\n",
        "\"\"\"튜플을 생성할때 혹은 튜플을 다룰때 () 소괄호는 사실 필수 조건은 아닙니다. 즉, 생략이 가능합니다.\n",
        "\n",
        "그래서 튜플을 생성할때 t1 = 1, 2, 3, 4, 5 라 하면 파이썬은 이것을 튜플이라 여기게 됩니다.\"\"\""
      ],
      "metadata": {
        "colab": {
          "base_uri": "https://localhost:8080/",
          "height": 72
        },
        "id": "F1exOpMJqbEw",
        "outputId": "e763c183-a5c4-405b-e8a9-726f620df897"
      },
      "execution_count": null,
      "outputs": [
        {
          "output_type": "execute_result",
          "data": {
            "text/plain": [
              "'튜플을 생성할때 혹은 튜플을 다룰때 () 소괄호는 사실 필수 조건은 아닙니다. 즉, 생략이 가능합니다.\\n\\n그래서 튜플을 생성할때 t1 = 1, 2, 3, 4, 5 라 하면 파이썬은 이것을 튜플이라 여기게 됩니다.'"
            ],
            "application/vnd.google.colaboratory.intrinsic+json": {
              "type": "string"
            }
          },
          "metadata": {},
          "execution_count": 94
        }
      ]
    },
    {
      "cell_type": "code",
      "source": [
        "print(f'type(a) : {type(a)}')\n",
        "print(f'type(b) : {type(b)}')\n",
        "print(f'type(c) : {type(c)}')\n",
        " \n",
        "print(f'a : {a}')\n",
        "print(f'b : {b}')\n",
        "print(f'c : {c}')\n"
      ],
      "metadata": {
        "colab": {
          "base_uri": "https://localhost:8080/"
        },
        "id": "RDAhrhlvqej-",
        "outputId": "7f31050b-9149-4ad7-d11c-2c61b909e4df"
      },
      "execution_count": null,
      "outputs": [
        {
          "output_type": "stream",
          "name": "stdout",
          "text": [
            "type(a) : <class 'tuple'>\n",
            "type(b) : <class 'tuple'>\n",
            "type(c) : <class 'tuple'>\n",
            "a : (3, 4, 5)\n",
            "b : (7,)\n",
            "c : ('o', 'p', 'q')\n"
          ]
        }
      ]
    },
    {
      "cell_type": "code",
      "source": [
        "## tuple로 인한 스왑\n",
        "\"\"\"\n",
        "바로 위 예제에서 보았듯이 튜플에는 unpack 기능 (하나하나 나눠주는)과 다시 합쳐주는 pack 기능이 있기 때문에 우리는 변수의 스왑을 매우 편리하게 할 수 있습니다.\n",
        "\"\"\"\n",
        "# a1, a2 에 튜플이 분해되서 하나씩 들어감\n",
        "a1, a2 = (1, 2)\n",
        "print(f'a1, a2 = {a1}, {a2}')\n",
        " "
      ],
      "metadata": {
        "colab": {
          "base_uri": "https://localhost:8080/"
        },
        "id": "abqAmhwMqwa1",
        "outputId": "fa2e701d-a7cb-497f-d5e6-d75c7b6293e7"
      },
      "execution_count": null,
      "outputs": [
        {
          "output_type": "stream",
          "name": "stdout",
          "text": [
            "a1, a2 = 1, 2\n"
          ]
        }
      ]
    },
    {
      "cell_type": "code",
      "source": [
        "b2, b1 = a1, a2\n",
        "print(f'b1, b2 = {b1}, {b2}')"
      ],
      "metadata": {
        "colab": {
          "base_uri": "https://localhost:8080/"
        },
        "id": "n2oE1UF9ravY",
        "outputId": "7bb77b6e-0704-4387-c446-bc252a9fac08"
      },
      "execution_count": null,
      "outputs": [
        {
          "output_type": "stream",
          "name": "stdout",
          "text": [
            "b1, b2 = 2, 1\n"
          ]
        }
      ]
    },
    {
      "cell_type": "code",
      "source": [
        "##  tuple 과 반복문\n",
        "t1 = ('B', 'l', 'o', 'c', 'k', 'D', 'M', 'a', 's', 'k')\n",
        " \n",
        "for v in t1:\n",
        "    print(v)"
      ],
      "metadata": {
        "colab": {
          "base_uri": "https://localhost:8080/"
        },
        "id": "UgUESWI6re_p",
        "outputId": "9aa3825d-bbee-470d-9330-b807a1ddb9d6"
      },
      "execution_count": null,
      "outputs": [
        {
          "output_type": "stream",
          "name": "stdout",
          "text": [
            "B\n",
            "l\n",
            "o\n",
            "c\n",
            "k\n",
            "D\n",
            "M\n",
            "a\n",
            "s\n",
            "k\n"
          ]
        }
      ]
    },
    {
      "cell_type": "code",
      "source": [
        "## 튜플의 중첩\n",
        "\n",
        "\"\"\" 튜플도 2중 리스트 처럼 중첩이 가능합니다. 소괄호 안에 소괄호를 사용하면 됩니다.\n",
        "접근은 [][] 이렇게 이중이면 두개의 [][]로 접근이 가능하고, 삼중이면 [][][]으로 접근이 가능합니다\n",
        "\"\"\"\n",
        "t1 = (1, 2, (3, 4))\n",
        " \n",
        "# 중첩된 튜플의 순회\n",
        "print('1. 튜플 중첩 반복문')\n",
        "for v in t1:\n",
        "    print(v)\n",
        "## 위에서 먼저 튜플을 확인해보자.\n",
        "print('\\n2. 튜플 중첩 인덱싱')\n",
        "print(f't1[0] = {t1[0]}')\n",
        "print(f't1[1] = {t1[1]}')\n",
        "print(f't1[2] = {t1[2]}')\n",
        "print(f't1[2][0] = {t1[2][0]}')\n",
        "print(f't1[2][1] = {t1[2][1]}')"
      ],
      "metadata": {
        "colab": {
          "base_uri": "https://localhost:8080/"
        },
        "id": "HPbhgNDN03DN",
        "outputId": "664fa133-2dd1-4c8b-c67c-01089b385a9c"
      },
      "execution_count": null,
      "outputs": [
        {
          "output_type": "stream",
          "name": "stdout",
          "text": [
            "1. 튜플 중첩 반복문\n",
            "1\n",
            "2\n",
            "(3, 4)\n",
            "\n",
            "2. 튜플 중첩 인덱싱\n",
            "t1[0] = 1\n",
            "t1[1] = 2\n",
            "t1[2] = (3, 4)\n",
            "t1[2][0] = 3\n",
            "t1[2][1] = 4\n"
          ]
        }
      ]
    },
    {
      "cell_type": "markdown",
      "source": [
        "## 딕셔너리\n",
        "\n",
        "리스트와 같이 수정할 수 있으나, key와 그 key에 해당하는 value 값이 존재한다.\n",
        "\n",
        "딕셔너리는 중괄호({, })로 감싸서 표현합니다.\n",
        "\n",
        "### 주의해야할 점\n",
        "\n",
        "- 키 값에 list, set이 올 수 없습니다. 키 값은 immutable (불변한) 객체 타입이 와야 합니다. 그렇기 때문에 mutable한 변할수 있는 객체 타입인 list나 set 같은 타입은 딕셔너리의 키가 될 수 없습니다.\n",
        "- 키 값은 중복 될 수 없습니다. 동일한 키를 추가하면 나중에 추가된 키와 값에 기존의 키와 값이 덮어띄워진다. 키 값은 고유해야하기 때문이다. 그래야 정확히 그 데이터에 접근할 수 있기 때문입니다.\n",
        "\n",
        "### 딕셔너리 키값 추가, 접근 방법, 값 변경\n",
        "\n",
        "- 딕셔너리[키] = 값 을 통해서 키,값 쌍을 추가할 수 있다.\n",
        "- 딕셔너리[키] 를 통해서 값에 접근할 수 있다.\n",
        "- 딕셔너리[키] = 값 을 통해서 값을 변경할 수 있다."
      ],
      "metadata": {
        "id": "WDQQ0-Yo1Cdz"
      }
    },
    {
      "cell_type": "code",
      "source": [
        "information = {\"고향\":\"수원\", \"취미\":\"영화관람\", \"좋아하는 음식\":\"국수\"}\n",
        "print(information)"
      ],
      "metadata": {
        "colab": {
          "base_uri": "https://localhost:8080/"
        },
        "id": "S_c7yx4N09pX",
        "outputId": "e588d0f8-0af7-452d-9ee4-98185eaa43fe"
      },
      "execution_count": null,
      "outputs": [
        {
          "output_type": "stream",
          "name": "stdout",
          "text": [
            "{'고향': '수원', '취미': '영화관람', '좋아하는 음식': '국수'}\n"
          ]
        }
      ]
    },
    {
      "cell_type": "code",
      "source": [
        "## key 가져오기\n",
        "cur_price = {'Daum KAKAO': 80000, 'naver':800000, 'daeshin':30000}\n",
        "cur_price.keys()\n",
        "### dict_keys(['naver', 'Daum KAKAO', 'daeshin'])\n",
        "\n",
        "'''\n",
        "리스트 형태가 아니기 때문에 리스트 형태로 변환한다음 각 키값들을 불러와서 사용하는 것이 좋다.\n",
        "key = list(dict_keys(['naver', 'Daum KAKAO', 'daeshin'])) ## 바인딩\n",
        "key[0] ## 'naver'\n",
        "'''"
      ],
      "metadata": {
        "colab": {
          "base_uri": "https://localhost:8080/",
          "height": 72
        },
        "id": "jvW9S1_21xMn",
        "outputId": "794a425f-eb0a-405e-f1b2-b805d26d7653"
      },
      "execution_count": null,
      "outputs": [
        {
          "output_type": "execute_result",
          "data": {
            "text/plain": [
              "\"\\n리스트 형태가 아니기 때문에 리스트 형태로 변환한다음 각 키값들을 불러와서 사용하는 것이 좋다.\\nkey = list(dict_keys(['naver', 'Daum KAKAO', 'daeshin'])) ## 바인딩\\nkey[0] ## 'naver'\\n\""
            ],
            "application/vnd.google.colaboratory.intrinsic+json": {
              "type": "string"
            }
          },
          "metadata": {},
          "execution_count": 102
        }
      ]
    },
    {
      "cell_type": "code",
      "source": [
        "cur_price.keys()"
      ],
      "metadata": {
        "colab": {
          "base_uri": "https://localhost:8080/"
        },
        "id": "laW0YZ6f1zQr",
        "outputId": "2cf4756d-e8d0-42b6-c0af-06388d38cd63"
      },
      "execution_count": null,
      "outputs": [
        {
          "output_type": "execute_result",
          "data": {
            "text/plain": [
              "dict_keys(['Daum KAKAO', 'naver', 'daeshin'])"
            ]
          },
          "metadata": {},
          "execution_count": 103
        }
      ]
    },
    {
      "cell_type": "code",
      "source": [
        "## value 가져오기1\n",
        "print(information.get(\"취미\")) ### 딕셔너리 요소를 하나씩 가져온다.\n",
        "## 딕셔너리.get(\"key\")를 이용해서 조금 더 안전하게 value에 접근 할 수 있습니다.\n",
        "\"\"\"\n",
        "딕셔너리.get() 함수는 이렇게 값이 없을때는 None을 반환합니다.\n",
        "그런데 딕셔너리[] 로 접근할때 값이 없으면 에러가 납니다.\n",
        "이렇게 딕셔너리[] 접근은 값이 없을때 에러가 나기 때문에 안정성이 조금 떨어질 수 있습니다.\n",
        "그렇기 때문에 딕셔너리.get() 함수로 확인하는것도 좋은 방법 입니다.\n",
        "\"\"\""
      ],
      "metadata": {
        "colab": {
          "base_uri": "https://localhost:8080/",
          "height": 108
        },
        "id": "ll15SaI82Ca4",
        "outputId": "6d527cf8-715a-4634-f445-3c16999849bd"
      },
      "execution_count": null,
      "outputs": [
        {
          "output_type": "stream",
          "name": "stdout",
          "text": [
            "영화관람\n"
          ]
        },
        {
          "output_type": "execute_result",
          "data": {
            "text/plain": [
              "'\\n딕셔너리.get() 함수는 이렇게 값이 없을때는 None을 반환합니다.\\n그런데 딕셔너리[] 로 접근할때 값이 없으면 에러가 납니다.\\n이렇게 딕셔너리[] 접근은 값이 없을때 에러가 나기 때문에 안정성이 조금 떨어질 수 있습니다.\\n그렇기 때문에 딕셔너리.get() 함수로 확인하는것도 좋은 방법 입니다.\\n'"
            ],
            "application/vnd.google.colaboratory.intrinsic+json": {
              "type": "string"
            }
          },
          "metadata": {},
          "execution_count": 104
        }
      ]
    },
    {
      "cell_type": "code",
      "source": [
        "## value 가져오기2\n",
        "cur_price = {'Daum KAKAO': 80000, 'naver':800000, 'daeshin':30000}\n",
        "cur_price.values()\n",
        "### dict_keys([80000, 800000, 30000])"
      ],
      "metadata": {
        "colab": {
          "base_uri": "https://localhost:8080/"
        },
        "id": "ion8aG5R3EF6",
        "outputId": "a52f5d59-90b1-48ff-e1e8-d30654693c02"
      },
      "execution_count": null,
      "outputs": [
        {
          "output_type": "execute_result",
          "data": {
            "text/plain": [
              "dict_values([80000, 800000, 30000])"
            ]
          },
          "metadata": {},
          "execution_count": 105
        }
      ]
    },
    {
      "cell_type": "code",
      "source": [
        "## 추가:\n",
        "###이런 형식으로 존재 여부를 넣을 수 있다.\n",
        "'naver' in cur_price.keys() ##True"
      ],
      "metadata": {
        "colab": {
          "base_uri": "https://localhost:8080/"
        },
        "id": "EvQtJ_Je3Pu2",
        "outputId": "adec77b6-1c21-43f9-8e2d-6517926b62b9"
      },
      "execution_count": null,
      "outputs": [
        {
          "output_type": "execute_result",
          "data": {
            "text/plain": [
              "True"
            ]
          },
          "metadata": {},
          "execution_count": 106
        }
      ]
    },
    {
      "cell_type": "code",
      "source": [
        "## 딕셔너리 키와 값 같이 뽑기\n",
        "cur_price.items()"
      ],
      "metadata": {
        "colab": {
          "base_uri": "https://localhost:8080/"
        },
        "id": "H6ACMtoB3ZbV",
        "outputId": "da8ee43d-f438-4fa7-f081-eb9b0ead37a1"
      },
      "execution_count": null,
      "outputs": [
        {
          "output_type": "execute_result",
          "data": {
            "text/plain": [
              "dict_items([('Daum KAKAO', 80000), ('naver', 800000), ('daeshin', 30000)])"
            ]
          },
          "metadata": {},
          "execution_count": 107
        }
      ]
    },
    {
      "cell_type": "code",
      "source": [
        "## 값 지우기:\n",
        "cur_price = {'Daum KAKAO': 80000, 'naver':800000, 'daeshin':30000}\n",
        "del cur_price['Daum KAKAO']\n",
        "cur_price"
      ],
      "metadata": {
        "colab": {
          "base_uri": "https://localhost:8080/"
        },
        "id": "tUPhxyrj3dhK",
        "outputId": "ae5c17e1-2e36-4307-ccbd-38289a67e8d7"
      },
      "execution_count": null,
      "outputs": [
        {
          "output_type": "execute_result",
          "data": {
            "text/plain": [
              "{'daeshin': 30000, 'naver': 800000}"
            ]
          },
          "metadata": {},
          "execution_count": 108
        }
      ]
    },
    {
      "cell_type": "code",
      "source": [
        "##clear\n",
        "cur_price = {'Daum KAKAO': 80000, 'naver':800000, 'daeshin':30000}\n",
        "cur_price.clear()\n",
        "cur_price"
      ],
      "metadata": {
        "colab": {
          "base_uri": "https://localhost:8080/"
        },
        "id": "UFOc_pkK3ieE",
        "outputId": "b73da972-47c0-4139-bf79-90d24f5644c1"
      },
      "execution_count": null,
      "outputs": [
        {
          "output_type": "execute_result",
          "data": {
            "text/plain": [
              "{}"
            ]
          },
          "metadata": {},
          "execution_count": 109
        }
      ]
    },
    {
      "cell_type": "markdown",
      "source": [
        "## 데이터 프레임\n",
        "\n",
        "데이터 프레임의 장점이라 함은, 다른 자료형들에 비해서 훨씬 시각적이며, 자료 변형에 제약이 없다는 점입니다. 우리가 사용했던 dictionary를 데이터 프레임으로 만들어서 사용하거나, 리스트를 이용해서 데이터 프레임으로 만들어서 사용할 경우에, 더욱 간결하게 해결할 수 있습니다. \n",
        "\n",
        "또한 데이터 프레임은 리스트의 한 종류로서, 리스트에서 사용되는 대부분의 함수들을 적용 가능하다는 점도 하나의 장점이라고 할 수 있습니다. DB를 배우다 보면 주로 SQL을 사용하게 되며, 이를 통해서 로컬 스토리지를 다룰 때가 많은데, 특수 분야에서는 SQL을 파이썬으로도 해결을 해준다는 점에서 장점이 있습니다. \n",
        "\n",
        "데이터프레임을 사용하기 위해서는 먼저 필요한 library를 설치해야합니다. → DB 또한 이런 형식의 DB를 사용할 수도 있다."
      ],
      "metadata": {
        "id": "NUzrdjvQ3vYg"
      }
    },
    {
      "cell_type": "code",
      "source": [
        "##pip install pandas ## 설치되어 있지 않을 경우\n",
        "## pandas를 import 해온다.\n",
        "\n",
        "import pandas as pd ## pd라고 줄여서 사용할 수 있도록 만들었다.\n",
        "\n",
        "### 데이터 프레임을 만든느 방법은 두가지가 존재한다. 한가지는 데이터가 파일로 주어졌을 경우, 다른 한가지는 주어지지 않았을 경우이다.\n",
        "\n",
        "### 데이터가 파일로 주어질 경우\n",
        "\"\"\"\n",
        "주로 파일은 형태에 따라서 불러오는 방식이 다르다.\n",
        "##excel -> pd.read_excel(\"경로\", encoding = \"cp949\")\n",
        "##csv -> pd.read_csv(\"경로\", encoding = \"cp949\")\n",
        "cp949가 오류가 날 경우, utf-8로 수정해주면 돌아간다. -> 한글 출력에 있어서 필요한 encoding 형식이라고 할 수 있다.\n",
        "\"\"\"\n",
        "\n",
        "### 먼저 주어진 데이터 프레임을 먼저 불러와보도록 하겠다.\n",
        "DF_orginal = pd.read_excel(\"./기사 명사 개수.xlsx\")\n",
        "#DF_orginal \n",
        "### 위와 비슷한 방식으로 추후에 DB에 있는 정보들을 긁어올 수 있다. -> pandasql을 사용할 경우에는 SQL과 동일한 방식으로 코딩도 가능하다."
      ],
      "metadata": {
        "id": "r69TmVNl3rYx"
      },
      "execution_count": null,
      "outputs": []
    },
    {
      "cell_type": "code",
      "source": [
        "### 우리는 주로 이런 데이터 프레임을 불러오기 보다는 만들 경우도 많다고 생각합니다. 그래서 만드는 부분도 보여주도록 할 예정이다.\n",
        "### 멋쟁이 사자처럼 운영진을 바탕으로 데이터 프레임을 만들어보도록 하겠습니다.\n",
        "### 먼저 우리가 직접 입력해주기 위해서는 빈 데이터 프레임을 만들어주겠습니다.\n",
        "\"\"\"DF= pd.DataFrame(index=range(0,원하는 행갯수:데이터 개수), columns=['칼럼이름1', '칼럼이름2'])\"\"\"\n",
        "운영진_list = [\"최지희\", \"김준서\", \"차지환\",\"문태주\",\"강지민\",\"윤효정\",\"장혜원\",\"박고은\",\"유준호\",\"양승빈\"]\n",
        "운영진_학번 = [18, 19, 18, 21, 19, 19, 20, 20, 21, 18]\n",
        "운영진_성별 = [\"여\",\"남\",\"여\",\"남\",\"여\",\"여\",\"여\",\"여\",\"남\",\"남\"]\n",
        "운영진_count = len(운영진_list)"
      ],
      "metadata": {
        "id": "2hPCHQus4P03"
      },
      "execution_count": null,
      "outputs": []
    },
    {
      "cell_type": "code",
      "source": [
        "### 빈 데이터 프레임을 만들어서 넣기:\n",
        "운영진 = pd.DataFrame(index=range(0,운영진_count), columns=[\"이름\",\"학번\",\"성별\"])\n",
        "\n",
        "운영진[\"이름\"] = 운영진_list\n",
        "운영진[\"학번\"] = 운영진_학번\n",
        "운영진[\"성별\"] = 운영진_성별"
      ],
      "metadata": {
        "id": "BdaqBzkw5E-2"
      },
      "execution_count": null,
      "outputs": []
    },
    {
      "cell_type": "code",
      "source": [
        "### 데이터 프레임으로 한번에 만들기\n",
        "### 데이터를 넣어서도 바로 만들 수 있습니다.\n",
        "운영진_10기 = pd.DataFrame({'이름':[\"박고은\",\"유준호\",\"양승빈\"],\n",
        "                             '학번':[20, 21, 18],\n",
        "                             '성별':[\"여\",\"남\",\"남\"],\n",
        "                             \"기수\":[\"10\",\"10\",\"10\"]})\n",
        "#운영진_10기"
      ],
      "metadata": {
        "id": "UStwP9gW6XaP"
      },
      "execution_count": null,
      "outputs": []
    },
    {
      "cell_type": "code",
      "source": [
        "### 새로운 열 만들어보기: 컬럼 이름이 없더라도, 새로운 이름으로 선언한 이후에 데이터를 넣어주면 됩니다.\n",
        "운영진[\"기수\"] = [9,9,9,9,9,9,9,10,10,10]"
      ],
      "metadata": {
        "id": "3GN0twbV6i57"
      },
      "execution_count": null,
      "outputs": []
    },
    {
      "cell_type": "code",
      "source": [
        "### 원하는 조건의 행만 뽑아오기\n",
        "운영진_9기=운영진[운영진[\"기수\"] == 9] ##자신이 원하는 조건에 맞는 열을 고른 후, 그 데이터 조건을 적어주면 된다.\n",
        "#운영진_9기"
      ],
      "metadata": {
        "id": "7eQ1TgKk61Gz"
      },
      "execution_count": null,
      "outputs": []
    },
    {
      "cell_type": "code",
      "source": [
        "### 이와 같이 부등호로도 사용 가능하다.\n",
        "운영진_화석 = 운영진[운영진[\"학번\"] <= 19]\n",
        "#운영진_화석 \n"
      ],
      "metadata": {
        "id": "_RnnDwq065VM"
      },
      "execution_count": null,
      "outputs": []
    },
    {
      "cell_type": "code",
      "source": [
        "### 원하는 조건의 열만 뽑아오기\n",
        "### 원하는 조건의 열또한 뽑을 수 있다. 학번이 화석 같아서 싫다면\n",
        "운영진_학번싫어 = 운영진[[\"이름\",\"성별\",\"기수\"]]\n",
        "#운영진_학번싫어"
      ],
      "metadata": {
        "id": "1pRoPGTe7WuT"
      },
      "execution_count": null,
      "outputs": []
    },
    {
      "cell_type": "code",
      "source": [
        ""
      ],
      "metadata": {
        "id": "5CD_6a0m7Y5p"
      },
      "execution_count": null,
      "outputs": []
    }
  ]
}