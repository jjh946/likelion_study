{
  "nbformat": 4,
  "nbformat_minor": 0,
  "metadata": {
    "colab": {
      "name": "pythonBasic.ipynb",
      "provenance": [],
      "authorship_tag": "ABX9TyONyit3gciAcprjdfwq2C9W",
      "include_colab_link": true
    },
    "kernelspec": {
      "name": "python3",
      "display_name": "Python 3"
    },
    "language_info": {
      "name": "python"
    }
  },
  "cells": [
    {
      "cell_type": "markdown",
      "metadata": {
        "id": "view-in-github",
        "colab_type": "text"
      },
      "source": [
        "<a href=\"https://colab.research.google.com/github/jjh946/likelion_study/blob/main/pythonBasic.ipynb\" target=\"_parent\"><img src=\"https://colab.research.google.com/assets/colab-badge.svg\" alt=\"Open In Colab\"/></a>"
      ]
    },
    {
      "cell_type": "code",
      "execution_count": 1,
      "metadata": {
        "colab": {
          "base_uri": "https://localhost:8080/",
          "height": 35
        },
        "id": "G60cqfVKzm3l",
        "outputId": "255c4195-9529-4dc0-a40f-37409241e7d5"
      },
      "outputs": [
        {
          "output_type": "execute_result",
          "data": {
            "text/plain": [
              "'/content'"
            ],
            "application/vnd.google.colaboratory.intrinsic+json": {
              "type": "string"
            }
          },
          "metadata": {},
          "execution_count": 1
        }
      ],
      "source": [
        "import os\n",
        "os.getcwd()"
      ]
    },
    {
      "cell_type": "code",
      "source": [
        "print(한식)"
      ],
      "metadata": {
        "colab": {
          "base_uri": "https://localhost:8080/",
          "height": 172
        },
        "id": "oZen_yjAz_7o",
        "outputId": "d3a3e04c-4411-4dfb-e333-50006499a271"
      },
      "execution_count": 2,
      "outputs": [
        {
          "output_type": "error",
          "ename": "NameError",
          "evalue": "ignored",
          "traceback": [
            "\u001b[0;31m---------------------------------------------------------------------------\u001b[0m",
            "\u001b[0;31mNameError\u001b[0m                                 Traceback (most recent call last)",
            "\u001b[0;32m<ipython-input-2-3e2322201cd8>\u001b[0m in \u001b[0;36m<module>\u001b[0;34m()\u001b[0m\n\u001b[0;32m----> 1\u001b[0;31m \u001b[0mprint\u001b[0m\u001b[0;34m(\u001b[0m\u001b[0m한식\u001b[0m\u001b[0;34m)\u001b[0m\u001b[0;34m\u001b[0m\u001b[0;34m\u001b[0m\u001b[0m\n\u001b[0m",
            "\u001b[0;31mNameError\u001b[0m: name '한식' is not defined"
          ]
        }
      ]
    },
    {
      "cell_type": "code",
      "source": [
        "### 변수에 요리 담기.\n",
        "한식 = random.choice([\"김치찌개\",\"비빔밥\",\"불고기\"])\n",
        "중식 = random.choice([\"새우탕면\",\"꿔바로우\",\"깐쇼새우\"])\n",
        "양식 = random.choice([\"파스타\",\"피자\",\"햄버거\"])\n",
        "\n",
        "print(한식)\n",
        "### 랜덤으로 하나가 담긴다.\n",
        "\n",
        "한식 = \"집밥\"\n",
        "\n",
        "print(한식)\n",
        "### 집밥\n",
        "\n",
        "\n",
        "a = '멋쟁이사자처럼' \n",
        "## 이런 식으로 변수에 담아주고\n",
        "print(a) ## 이렇게 사용하시면 됩니다."
      ],
      "metadata": {
        "colab": {
          "base_uri": "https://localhost:8080/",
          "height": 245
        },
        "id": "Aze_a4xf0CDU",
        "outputId": "5adf9fc1-7c4f-4213-a607-df5ff0199fe0"
      },
      "execution_count": 3,
      "outputs": [
        {
          "output_type": "error",
          "ename": "NameError",
          "evalue": "ignored",
          "traceback": [
            "\u001b[0;31m---------------------------------------------------------------------------\u001b[0m",
            "\u001b[0;31mNameError\u001b[0m                                 Traceback (most recent call last)",
            "\u001b[0;32m<ipython-input-3-159c98dad5b7>\u001b[0m in \u001b[0;36m<module>\u001b[0;34m()\u001b[0m\n\u001b[1;32m      1\u001b[0m \u001b[0;31m### 변수에 요리 담기.\u001b[0m\u001b[0;34m\u001b[0m\u001b[0;34m\u001b[0m\u001b[0;34m\u001b[0m\u001b[0m\n\u001b[0;32m----> 2\u001b[0;31m \u001b[0m한식\u001b[0m \u001b[0;34m=\u001b[0m \u001b[0mrandom\u001b[0m\u001b[0;34m.\u001b[0m\u001b[0mchoice\u001b[0m\u001b[0;34m(\u001b[0m\u001b[0;34m[\u001b[0m\u001b[0;34m\"김치찌개\"\u001b[0m\u001b[0;34m,\u001b[0m\u001b[0;34m\"비빔밥\"\u001b[0m\u001b[0;34m,\u001b[0m\u001b[0;34m\"불고기\"\u001b[0m\u001b[0;34m]\u001b[0m\u001b[0;34m)\u001b[0m\u001b[0;34m\u001b[0m\u001b[0;34m\u001b[0m\u001b[0m\n\u001b[0m\u001b[1;32m      3\u001b[0m \u001b[0m중식\u001b[0m \u001b[0;34m=\u001b[0m \u001b[0mrandom\u001b[0m\u001b[0;34m.\u001b[0m\u001b[0mchoice\u001b[0m\u001b[0;34m(\u001b[0m\u001b[0;34m[\u001b[0m\u001b[0;34m\"새우탕면\"\u001b[0m\u001b[0;34m,\u001b[0m\u001b[0;34m\"꿔바로우\"\u001b[0m\u001b[0;34m,\u001b[0m\u001b[0;34m\"깐쇼새우\"\u001b[0m\u001b[0;34m]\u001b[0m\u001b[0;34m)\u001b[0m\u001b[0;34m\u001b[0m\u001b[0;34m\u001b[0m\u001b[0m\n\u001b[1;32m      4\u001b[0m \u001b[0m양식\u001b[0m \u001b[0;34m=\u001b[0m \u001b[0mrandom\u001b[0m\u001b[0;34m.\u001b[0m\u001b[0mchoice\u001b[0m\u001b[0;34m(\u001b[0m\u001b[0;34m[\u001b[0m\u001b[0;34m\"파스타\"\u001b[0m\u001b[0;34m,\u001b[0m\u001b[0;34m\"피자\"\u001b[0m\u001b[0;34m,\u001b[0m\u001b[0;34m\"햄버거\"\u001b[0m\u001b[0;34m]\u001b[0m\u001b[0;34m)\u001b[0m\u001b[0;34m\u001b[0m\u001b[0;34m\u001b[0m\u001b[0m\n\u001b[1;32m      5\u001b[0m \u001b[0;34m\u001b[0m\u001b[0m\n",
            "\u001b[0;31mNameError\u001b[0m: name 'random' is not defined"
          ]
        }
      ]
    },
    {
      "cell_type": "code",
      "source": [
        "say = '\"Python is very easy.\" he says.'"
      ],
      "metadata": {
        "id": "dQ7PKtMf0JHR"
      },
      "execution_count": 4,
      "outputs": []
    },
    {
      "cell_type": "code",
      "source": [
        "print(say)"
      ],
      "metadata": {
        "colab": {
          "base_uri": "https://localhost:8080/"
        },
        "id": "iHcUYUCe1Nkq",
        "outputId": "7dd6fa7b-3643-46ad-911a-5fb5d73c9864"
      },
      "execution_count": 5,
      "outputs": [
        {
          "output_type": "stream",
          "name": "stdout",
          "text": [
            "\"Python is very easy.\" he says.\n"
          ]
        }
      ]
    },
    {
      "cell_type": "code",
      "source": [
        "multiline = \"Life is too short\\nYou need python\"\n"
      ],
      "metadata": {
        "id": "koFhRB2f1PxS"
      },
      "execution_count": 6,
      "outputs": []
    },
    {
      "cell_type": "code",
      "source": [
        "print(multiline)"
      ],
      "metadata": {
        "colab": {
          "base_uri": "https://localhost:8080/"
        },
        "id": "YrYYEoF-1nGI",
        "outputId": "55dea79a-5d98-4306-caf0-5d87134eb1ba"
      },
      "execution_count": 8,
      "outputs": [
        {
          "output_type": "stream",
          "name": "stdout",
          "text": [
            "Life is too short\n",
            "You need python\n"
          ]
        }
      ]
    },
    {
      "cell_type": "code",
      "source": [
        "multiline='''\n",
        "... Life is too short\n",
        "... You need python\n",
        "... '''"
      ],
      "metadata": {
        "id": "wT42MAtj1qmf"
      },
      "execution_count": 9,
      "outputs": []
    },
    {
      "cell_type": "code",
      "source": [
        "print(multiline)"
      ],
      "metadata": {
        "colab": {
          "base_uri": "https://localhost:8080/"
        },
        "id": "mxwAMYpK1tvj",
        "outputId": "dc643c5f-22e0-4855-f032-3d233947b54e"
      },
      "execution_count": 10,
      "outputs": [
        {
          "output_type": "stream",
          "name": "stdout",
          "text": [
            "\n",
            "Life is too short\n",
            "You need python\n",
            "\n"
          ]
        }
      ]
    },
    {
      "cell_type": "code",
      "source": [
        "multiline=\"\"\"\n",
        "... Life is too short\n",
        "... You need python\n",
        "... \"\"\""
      ],
      "metadata": {
        "id": "7XEpt3TO1vw4"
      },
      "execution_count": 11,
      "outputs": []
    },
    {
      "cell_type": "code",
      "source": [
        "print(multiline)"
      ],
      "metadata": {
        "colab": {
          "base_uri": "https://localhost:8080/"
        },
        "id": "xv_ZXX3V1-j7",
        "outputId": "d7bc1bf7-08b6-4fbd-9886-629c37090053"
      },
      "execution_count": 12,
      "outputs": [
        {
          "output_type": "stream",
          "name": "stdout",
          "text": [
            "\n",
            "Life is too short\n",
            "You need python\n",
            "\n"
          ]
        }
      ]
    },
    {
      "cell_type": "code",
      "source": [
        "head = \"Python\"\n",
        "tail = \" is fun!\"\n",
        "print(head + tail)\n"
      ],
      "metadata": {
        "colab": {
          "base_uri": "https://localhost:8080/"
        },
        "id": "1KR5Ahmm2Aew",
        "outputId": "b4081893-1745-4266-f41f-2e659d25354d"
      },
      "execution_count": 13,
      "outputs": [
        {
          "output_type": "stream",
          "name": "stdout",
          "text": [
            "Python is fun!\n"
          ]
        }
      ]
    },
    {
      "cell_type": "code",
      "source": [
        "## 문자열 곱하기\n",
        "a = \"python\"\n",
        "print(a * 2) ## 두번 반복해라\n",
        "#'pythonpython'"
      ],
      "metadata": {
        "colab": {
          "base_uri": "https://localhost:8080/"
        },
        "id": "dlpTOn6r2Hlt",
        "outputId": "83cfab2b-b7d1-4757-8e84-dc03247f30d9"
      },
      "execution_count": 14,
      "outputs": [
        {
          "output_type": "stream",
          "name": "stdout",
          "text": [
            "pythonpython\n"
          ]
        }
      ]
    },
    {
      "cell_type": "code",
      "source": [
        "## 문자열 곱하기 응용\n",
        "\n",
        "print(\"=\" * 50)\n",
        "print(\"My Program\")\n",
        "print(\"=\" * 50)\n",
        "\n",
        "#==================================================\n",
        "#My Program\n",
        "#=================================================="
      ],
      "metadata": {
        "colab": {
          "base_uri": "https://localhost:8080/"
        },
        "id": "Kr1bfhc92OaF",
        "outputId": "289018c0-8134-4a97-cb59-59ac579dbbd0"
      },
      "execution_count": 15,
      "outputs": [
        {
          "output_type": "stream",
          "name": "stdout",
          "text": [
            "==================================================\n",
            "My Program\n",
            "==================================================\n"
          ]
        }
      ]
    },
    {
      "cell_type": "code",
      "source": [
        "## 문자열 길이 구하기\n",
        "a = \"Life is too short\"\n",
        "len(a)\n",
        "# 17"
      ],
      "metadata": {
        "colab": {
          "base_uri": "https://localhost:8080/"
        },
        "id": "9W_8HTvo2SXy",
        "outputId": "0496e633-52b9-4eee-907c-6eb78faf4b1c"
      },
      "execution_count": 16,
      "outputs": [
        {
          "output_type": "execute_result",
          "data": {
            "text/plain": [
              "17"
            ]
          },
          "metadata": {},
          "execution_count": 16
        }
      ]
    },
    {
      "cell_type": "code",
      "source": [
        "## 문자열 인덱싱과 슬라이싱\n",
        "\"\"\"\n",
        "인덱싱(Indexing)이란 무엇인가를 \"가리킨다\"는 의미이고, 슬라이싱(Slicing)은 무엇인가를 \"잘라낸다\"는 의미이다. 이런 의미를 생각하면서 다음 내용을 살펴보자\n",
        "\"\"\"\n",
        "## 문자열 인덱싱\n",
        "a = \"Life is too short, You need Python\"\n",
        "a[3]\n",
        "# 'e' -> 맨 앞이 0부터 시작, 즉 4번째 알파벳이 나온다."
      ],
      "metadata": {
        "colab": {
          "base_uri": "https://localhost:8080/",
          "height": 35
        },
        "id": "BV2Q_xpV2We6",
        "outputId": "f61c1884-cac2-44ca-ae52-e0f94608bdca"
      },
      "execution_count": 17,
      "outputs": [
        {
          "output_type": "execute_result",
          "data": {
            "text/plain": [
              "'e'"
            ],
            "application/vnd.google.colaboratory.intrinsic+json": {
              "type": "string"
            }
          },
          "metadata": {},
          "execution_count": 17
        }
      ]
    },
    {
      "cell_type": "code",
      "source": [
        "\"\"\"\n",
        "다음과 같이 0부터 숫자를 센다\n",
        "a[0]:'L', a[1]:'i', a[2]:'f', a[3]:'e', a[4]:' ', ...\n",
        "\"\"\"\n",
        "## 마지막 문자열 세기: \n",
        "\"\"\"\n",
        "a[-1]은 뒤에서부터 세어 첫 번째가 되는 문자를 말한다. a의 값은 \"Life is too short, You need Python\" 문자열이므로 뒤에서부터 첫 번째 문자는 가장 마지막 문자 'n'이다.\n",
        "\"\"\"\n",
        "a[-1]\n",
        "# 'n'"
      ],
      "metadata": {
        "colab": {
          "base_uri": "https://localhost:8080/",
          "height": 35
        },
        "id": "TXdw9JWp2gCl",
        "outputId": "602e3ea5-1808-4b88-de60-263057896558"
      },
      "execution_count": 18,
      "outputs": [
        {
          "output_type": "execute_result",
          "data": {
            "text/plain": [
              "'n'"
            ],
            "application/vnd.google.colaboratory.intrinsic+json": {
              "type": "string"
            }
          },
          "metadata": {},
          "execution_count": 18
        }
      ]
    },
    {
      "cell_type": "code",
      "source": [
        "## 문자열 슬라이싱\n",
        "a = \"Life is too short, You need Python\"\n",
        "a[0:4]\n",
        "# 'Life'\n",
        "b = a[0] + a[1] + a[2] + a[3]\n",
        "b\n",
        "# 'Life'\n"
      ],
      "metadata": {
        "colab": {
          "base_uri": "https://localhost:8080/",
          "height": 35
        },
        "id": "cSCrhicz2odR",
        "outputId": "06568bc3-21b4-48af-9207-0955bae3c14f"
      },
      "execution_count": 19,
      "outputs": [
        {
          "output_type": "execute_result",
          "data": {
            "text/plain": [
              "'Life'"
            ],
            "application/vnd.google.colaboratory.intrinsic+json": {
              "type": "string"
            }
          },
          "metadata": {},
          "execution_count": 19
        }
      ]
    },
    {
      "cell_type": "code",
      "source": [
        "a[0:4]"
      ],
      "metadata": {
        "colab": {
          "base_uri": "https://localhost:8080/",
          "height": 35
        },
        "id": "U2zX9jIb2sZR",
        "outputId": "b24a00cb-7c23-4021-a27b-ca35c4b204fd"
      },
      "execution_count": 20,
      "outputs": [
        {
          "output_type": "execute_result",
          "data": {
            "text/plain": [
              "'Life'"
            ],
            "application/vnd.google.colaboratory.intrinsic+json": {
              "type": "string"
            }
          },
          "metadata": {},
          "execution_count": 20
        }
      ]
    },
    {
      "cell_type": "code",
      "source": [
        "a[4:8]"
      ],
      "metadata": {
        "colab": {
          "base_uri": "https://localhost:8080/",
          "height": 35
        },
        "id": "PCpHuLhd2xXo",
        "outputId": "9ecbcbf0-4090-4702-e0ea-153300f02df6"
      },
      "execution_count": 21,
      "outputs": [
        {
          "output_type": "execute_result",
          "data": {
            "text/plain": [
              "' is '"
            ],
            "application/vnd.google.colaboratory.intrinsic+json": {
              "type": "string"
            }
          },
          "metadata": {},
          "execution_count": 21
        }
      ]
    },
    {
      "cell_type": "code",
      "source": [
        "## a[시작 번호:끝 번호]에서 끝 번호 부분을 생략하면 시작 번호부터 그 문자열의 끝까지 뽑아낸다.\n",
        "a[19:]\n",
        "# 'You need Python'"
      ],
      "metadata": {
        "colab": {
          "base_uri": "https://localhost:8080/",
          "height": 35
        },
        "id": "09GHqoFN22k8",
        "outputId": "dd554b73-6efb-414f-c9fa-e7eddb8594f9"
      },
      "execution_count": 22,
      "outputs": [
        {
          "output_type": "execute_result",
          "data": {
            "text/plain": [
              "'You need Python'"
            ],
            "application/vnd.google.colaboratory.intrinsic+json": {
              "type": "string"
            }
          },
          "metadata": {},
          "execution_count": 22
        }
      ]
    },
    {
      "cell_type": "code",
      "source": [
        "## a[시작 번호:끝 번호]에서 시작 번호를 생략하면 문자열의 처음부터 끝 번호까지 뽑아낸다.\n",
        "a[:17]\n",
        "# 'Life is too short'"
      ],
      "metadata": {
        "colab": {
          "base_uri": "https://localhost:8080/",
          "height": 35
        },
        "id": "jEojnVFu27Af",
        "outputId": "039561e9-df60-484d-8514-0665c4370245"
      },
      "execution_count": 23,
      "outputs": [
        {
          "output_type": "execute_result",
          "data": {
            "text/plain": [
              "'Life is too short'"
            ],
            "application/vnd.google.colaboratory.intrinsic+json": {
              "type": "string"
            }
          },
          "metadata": {},
          "execution_count": 23
        }
      ]
    },
    {
      "cell_type": "code",
      "source": [
        "a = \"Pithon\"\n",
        "a[1]"
      ],
      "metadata": {
        "colab": {
          "base_uri": "https://localhost:8080/",
          "height": 35
        },
        "id": "ZbL5PInz2-UU",
        "outputId": "c94129a7-e20c-480c-e558-1bcf5b3ca2ed"
      },
      "execution_count": 27,
      "outputs": [
        {
          "output_type": "execute_result",
          "data": {
            "text/plain": [
              "'i'"
            ],
            "application/vnd.google.colaboratory.intrinsic+json": {
              "type": "string"
            }
          },
          "metadata": {},
          "execution_count": 27
        }
      ]
    },
    {
      "cell_type": "code",
      "source": [
        "a[1] = 'y'"
      ],
      "metadata": {
        "colab": {
          "base_uri": "https://localhost:8080/",
          "height": 172
        },
        "id": "wBF0Yibm3KE7",
        "outputId": "fc880d7e-95e6-4781-9252-5ab7fd9e46d2"
      },
      "execution_count": 28,
      "outputs": [
        {
          "output_type": "error",
          "ename": "TypeError",
          "evalue": "ignored",
          "traceback": [
            "\u001b[0;31m---------------------------------------------------------------------------\u001b[0m",
            "\u001b[0;31mTypeError\u001b[0m                                 Traceback (most recent call last)",
            "\u001b[0;32m<ipython-input-28-d5923cc78d10>\u001b[0m in \u001b[0;36m<module>\u001b[0;34m()\u001b[0m\n\u001b[0;32m----> 1\u001b[0;31m \u001b[0ma\u001b[0m\u001b[0;34m[\u001b[0m\u001b[0;36m1\u001b[0m\u001b[0;34m]\u001b[0m \u001b[0;34m=\u001b[0m \u001b[0;34m'y'\u001b[0m\u001b[0;34m\u001b[0m\u001b[0;34m\u001b[0m\u001b[0m\n\u001b[0m",
            "\u001b[0;31mTypeError\u001b[0m: 'str' object does not support item assignment"
          ]
        }
      ]
    },
    {
      "cell_type": "code",
      "source": [
        "a[:1]"
      ],
      "metadata": {
        "colab": {
          "base_uri": "https://localhost:8080/",
          "height": 35
        },
        "id": "A2Fs4fT23NzU",
        "outputId": "0ff062de-5617-4fe0-e471-dff732b8d10a"
      },
      "execution_count": 29,
      "outputs": [
        {
          "output_type": "execute_result",
          "data": {
            "text/plain": [
              "'P'"
            ],
            "application/vnd.google.colaboratory.intrinsic+json": {
              "type": "string"
            }
          },
          "metadata": {},
          "execution_count": 29
        }
      ]
    },
    {
      "cell_type": "code",
      "source": [
        "a[2:]"
      ],
      "metadata": {
        "colab": {
          "base_uri": "https://localhost:8080/",
          "height": 35
        },
        "id": "49g7-2WE3gnc",
        "outputId": "b7f1eb24-336f-4704-ab9e-9a921d8a72e3"
      },
      "execution_count": 30,
      "outputs": [
        {
          "output_type": "execute_result",
          "data": {
            "text/plain": [
              "'thon'"
            ],
            "application/vnd.google.colaboratory.intrinsic+json": {
              "type": "string"
            }
          },
          "metadata": {},
          "execution_count": 30
        }
      ]
    },
    {
      "cell_type": "code",
      "source": [
        "a[:1]+'y'+a[2:]"
      ],
      "metadata": {
        "colab": {
          "base_uri": "https://localhost:8080/",
          "height": 35
        },
        "id": "H6mlqNlr3jdC",
        "outputId": "103aed8b-cf57-452d-e073-73c3aa8fbaa2"
      },
      "execution_count": 31,
      "outputs": [
        {
          "output_type": "execute_result",
          "data": {
            "text/plain": [
              "'Python'"
            ],
            "application/vnd.google.colaboratory.intrinsic+json": {
              "type": "string"
            }
          },
          "metadata": {},
          "execution_count": 31
        }
      ]
    },
    {
      "cell_type": "code",
      "source": [
        ""
      ],
      "metadata": {
        "id": "CBWE-3S83s3R"
      },
      "execution_count": null,
      "outputs": []
    },
    {
      "cell_type": "markdown",
      "source": [
        "**PYTHON  기초: 조건문** \n",
        "\n",
        "- 코드의 흐름을 제어한다고 해서 제어문\n",
        "- 분기문 = 컴퓨터에게 선택의 여지와 조건을 부여\n",
        "- if(조건): 조건이 참일 때 실행할 코드"
      ],
      "metadata": {
        "id": "aG5eQj5432M1"
      }
    },
    {
      "cell_type": "code",
      "source": [
        ""
      ],
      "metadata": {
        "id": "UocUYMqe4Gen"
      },
      "execution_count": null,
      "outputs": []
    }
  ]
}